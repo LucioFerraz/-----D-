{
 "cells": [
  {
   "cell_type": "markdown",
   "id": "be80fffd",
   "metadata": {},
   "source": [
    "# [<img src=\"Eramus_Banner.jpg\"/>](Erasmus.jpg)                                                                          "
   ]
  },
  {
   "cell_type": "markdown",
   "id": "b06c1db2",
   "metadata": {},
   "source": [
    "<h1> Erasmus+ Programme</h1> European Region Action Scheme for the Mobility of University Students (EN) | Plano de Ação Europeia para a Mobilidade de Estudantes Universitários (PT)\n",
    "\n",
    "This dataset contains the raw data for Erasmus+ mobility for students (study exchanges and work placements) and staff (teaching assignments and staff training) in 2014-2019. The data contains information on various fields: age, gender, duration, special needs, subject area, level of study, sending and receiving country, etc."
   ]
  },
  {
   "cell_type": "markdown",
   "id": "a29c086e",
   "metadata": {},
   "source": [
    "<b>O que é o programa Eramus+?</b>\n",
    "\n",
    "O Erasmus+ é o programa da União Europeia (UE) de apoio a projetos, parcerias, eventos e mobilidade nas áreas de educação, formação, juventude e desporto. Atualmente o programa engloba 32 modalidades distintas que visam contemplar estudantes, aprendizes, professores, pessoal técnico, jovens, conferencistas, voluntários, estagiários e praticantes de desporto, a nível escolar e universitário."
   ]
  },
  {
   "cell_type": "markdown",
   "id": "f506c64a",
   "metadata": {},
   "source": [
    "<b>História e objetivos estratégicos.</b>\n",
    "\n",
    "O programa deve o seu nome ao filósofo, teólogo, humanista do Renascimento, monge holandês, Erasmo de Roterdã - em neerlandês Erasmus - Foi criado em 1987 por uma associação estudantil. Posteriormente foi promovido e apadrinhado pela Comissão Europeia de Educação e aliado a outros projetos no campo da educação originou o atual programa Erasmus+, vigente desde 2014, em um formato alargado como parte da Estratégia Europeia de crescimento inteligente, sustentável e inclusivo."
   ]
  },
  {
   "cell_type": "markdown",
   "id": "aeb59bc8",
   "metadata": {},
   "source": [
    "<b>Mobilidade, um fenómeno cultural.</b>\n",
    "\n",
    "O Programa Erasmus+ tornou-se referência de mobilidade e converteu-se em um verdadeiro fenómeno cultural. Para muitos estudantes europeus, somente por meio do programa é que torna-se possível viver e estudar em outros países. Pelas inumeras possibilidades que o programa oferece, a mobilade tornou-se um fenómeno cultural muito popular entre os jovens, passando a ser objeto cinematográfico como o filme francês Albergue Espanhol, o documentário Erasmus e inspirar o romance Leaves of Heaven do romancista paquistanês Nimra Ahmed, entre outras obras.\n",
    "\n",
    "Através da mobilidade são promovidos a aprendizagem e compreensão do país anfitrião e a experiência é considerada tanto um tempo para aprender como uma oportunidade para socializar.Os tutores e Universidades buscam incentivar a mobilidade por meio da promoção de sessões de esclarecimentos, uma vez que se trata de uma oportunidade ímpar para estudar no estrangeiro sem ter o custo de viver fora da União Europeia, visto que os alunos que optam pela mobilidade a nível europeu contam com apoio financeiro. "
   ]
  },
  {
   "cell_type": "markdown",
   "id": "30a82048",
   "metadata": {},
   "source": [
    "<b>Criação de uma identidade europeia. </b>\n",
    "\n",
    "Alguns académicos, sociologos e cientistas políticos acreditam que antigos alunos Erasmus provarão ser uma força poderosa na criação de uma identidade pan-europeia. O cientista político Stefan Wolff, por exemplo, argumentou que \"Dê 15, 20 ou 25 anos e a Europa será dirigida por líderes com uma cabeça e socialização completamente diferente da de hoje\", referindo-se à chamada \"geração Erasmus\"."
   ]
  },
  {
   "cell_type": "markdown",
   "id": "68c98126",
   "metadata": {},
   "source": [
    "<b>Vantagens do programa Erasmus+?</b>\n",
    "\n",
    "Uma oportunidade única! Os participantes Erasmus+ beneficiarão de uma experiência gratificante a nível académico, profissional e pessoal, que se traduzirá em crescimento pessoal e intelectual; conhecimento de novas culturas, línguas, métodos de trabalho e tecnologias; maior empregabilidade futura, não só em mercados estrangeiros, mas também nacionais; maior capacidade de adaptação, flexibilidade, autonomia, iniciativa e espírito empreendedor com horizontes alargados e que contribuam para construção de uma Europa cada vez mais unida na diversidade cultural, linguística e educacional."
   ]
  },
  {
   "cell_type": "markdown",
   "id": "f4db2d77",
   "metadata": {},
   "source": [
    "<b>Escopo da análise:</b>\n",
    "\n",
    "Como mencionado acima, o programa Erasmus+ engloba hoje em suas nuances diversas modalidades de atividades, entretanto, nessa apresentação será dedicada especial atenção a mobilidade estudantil entre países europeus \"Student mobility for studies between Programme Countries\", no qual serão trazidos números e informações atuais que permitam uma visualização macro do programa Erasmus+ no decorrer dos últimos anos, assim como desenvolver uma visão micro profunda do papel desempenhado por Portugal nessa modalidade de mobilidade, ao verificar tendência e números relativos as participações por género, participantes com necessidades especiais, área de pesquisa e campos de ensino contemplados, cidades e instituições de ensino portuguesas que mais recebem e mais encaminham estudantes para outras instituições de ensino e quais são as cidades e instituições preferidas. \n",
    "\n",
    "A modalidade Student mobility for studies between Programme Countries visa proporcionar aos estudantes a possibilidade de efetuarem um período de estudos em uma outra Universidade Europeia, com reconhecimento académico (como parte integrante do programa de estudos da universidade de origem). "
   ]
  },
  {
   "cell_type": "markdown",
   "id": "c543c7bb",
   "metadata": {},
   "source": [
    "##### Perguntas e Reflexões:\n",
    "\n",
    "- Programa de mobilidade estudantil: 'Student mobility for studies between Programme Countries'. \n",
    "    \n",
    "- Período académico 2014/2018. Apresentar os números e % nas categorias abaixo designadas.\n"
   ]
  },
  {
   "cell_type": "markdown",
   "id": "c60bb58b",
   "metadata": {},
   "source": [
    " -> Visão macro do Erasmus+ Programme:  \n",
    "    \n",
    "- Trazer dados globais e genéricos acerca do programa.\n",
    "\n",
    "Teses:\n",
    "\n",
    "Ter uma pergunta capaz de unir, dar significado ao estudo. \n",
    "Mensaurar se de fato acontece essa identidade pan europeia.\n",
    "Portugal mais recebe do que encaminha estudantes, porque??\n",
    "Como equalizar as condições para que mais pessoas possam participar??\n",
    "\n",
    "Responder ao final. "
   ]
  },
  {
   "cell_type": "markdown",
   "id": "edbf6bc0",
   "metadata": {},
   "source": [
    "-> Visão micro do Erasmus+ Programme: Análise do cenário Portugues.\n",
    "\n",
    "- Número de participantes nesse período e evolução ao longo dos anos;\n",
    "\n",
    "- Países, cidades e instituições que mais receberam e enviaram alunos; \n",
    " \n",
    "- Participantes por género e portadores de necessidades especiais;\n",
    "\n",
    "- Idades minimas, máximas e média dos participantes no programa;\n",
    "\n",
    "- Duração do período de mobilidade e média destes períodos; \n",
    "\n",
    "       \n",
    "Nota: Os anos académicos relativos a 2019, 2020 e 2021 não constam na análise, uma vez que há dados disponibilizados."
   ]
  },
  {
   "cell_type": "markdown",
   "id": "f9e36f96",
   "metadata": {},
   "source": [
    "<b>Dataset:</b>\n",
    "\n",
    "Access to European Union open data : https://data.europa.eu/euodp/data/dataset?tags=Erasmus\n",
    "\n",
    "                                                                                                          Let's do it!"
   ]
  },
  {
   "cell_type": "code",
   "execution_count": 18,
   "id": "105b2d33",
   "metadata": {},
   "outputs": [],
   "source": [
    "#Import Libs.\n",
    "\n",
    "import pandas as pd\n",
    "import numpy as np\n",
    "import seaborn as sns\n",
    "import matplotlib.pyplot as plt\n",
    "import re\n",
    "%matplotlib inline"
   ]
  },
  {
   "cell_type": "code",
   "execution_count": 19,
   "id": "21f23848",
   "metadata": {},
   "outputs": [
    {
     "name": "stderr",
     "output_type": "stream",
     "text": [
      "C:\\Users\\lucio\\anaconda3\\lib\\site-packages\\IPython\\core\\interactiveshell.py:3165: DtypeWarning: Columns (13) have mixed types.Specify dtype option on import or set low_memory=False.\n",
      "  has_raised = await self.run_ast_nodes(code_ast.body, cell_name,\n"
     ]
    },
    {
     "data": {
      "text/html": [
       "<div>\n",
       "<style scoped>\n",
       "    .dataframe tbody tr th:only-of-type {\n",
       "        vertical-align: middle;\n",
       "    }\n",
       "\n",
       "    .dataframe tbody tr th {\n",
       "        vertical-align: top;\n",
       "    }\n",
       "\n",
       "    .dataframe thead th {\n",
       "        text-align: right;\n",
       "    }\n",
       "</style>\n",
       "<table border=\"1\" class=\"dataframe\">\n",
       "  <thead>\n",
       "    <tr style=\"text-align: right;\">\n",
       "      <th></th>\n",
       "      <th>Project Reference</th>\n",
       "      <th>Academic Year</th>\n",
       "      <th>Mobility Start Month</th>\n",
       "      <th>Mobility End Month</th>\n",
       "      <th>Mobility Duration</th>\n",
       "      <th>Activity (mob)</th>\n",
       "      <th>Field of Education</th>\n",
       "      <th>Participant Nationality</th>\n",
       "      <th>Education Level</th>\n",
       "      <th>Participant Gender</th>\n",
       "      <th>...</th>\n",
       "      <th>Special Needs</th>\n",
       "      <th>Fewer Opportunities</th>\n",
       "      <th>Participant Age</th>\n",
       "      <th>Sending Country Code</th>\n",
       "      <th>Sending City</th>\n",
       "      <th>Sending Organization</th>\n",
       "      <th>Receiving Country Code</th>\n",
       "      <th>Receiving City</th>\n",
       "      <th>Receiving Organization</th>\n",
       "      <th>Participants</th>\n",
       "    </tr>\n",
       "  </thead>\n",
       "  <tbody>\n",
       "    <tr>\n",
       "      <th>0</th>\n",
       "      <td>2014-1-AT02-KA347-000139</td>\n",
       "      <td>2014-15</td>\n",
       "      <td>2014-12</td>\n",
       "      <td>2014-12</td>\n",
       "      <td>1</td>\n",
       "      <td>National youth meetings</td>\n",
       "      <td>???</td>\n",
       "      <td>AT</td>\n",
       "      <td>??? - ???</td>\n",
       "      <td>Male</td>\n",
       "      <td>...</td>\n",
       "      <td>No</td>\n",
       "      <td>No</td>\n",
       "      <td>16</td>\n",
       "      <td>AT</td>\n",
       "      <td>Wien</td>\n",
       "      <td>bOJA - Bundesweites Netzwerk Offene Jugendarbeit</td>\n",
       "      <td>AT</td>\n",
       "      <td>Wien</td>\n",
       "      <td>bOJA - Bundesweites Netzwerk Offene Jugendarbeit</td>\n",
       "      <td>1.0</td>\n",
       "    </tr>\n",
       "    <tr>\n",
       "      <th>1</th>\n",
       "      <td>2014-1-AT02-KA347-000139</td>\n",
       "      <td>2014-15</td>\n",
       "      <td>2014-12</td>\n",
       "      <td>2014-12</td>\n",
       "      <td>1</td>\n",
       "      <td>National youth meetings</td>\n",
       "      <td>???</td>\n",
       "      <td>AT</td>\n",
       "      <td>??? - ???</td>\n",
       "      <td>Male</td>\n",
       "      <td>...</td>\n",
       "      <td>No</td>\n",
       "      <td>No</td>\n",
       "      <td>18</td>\n",
       "      <td>AT</td>\n",
       "      <td>Wien</td>\n",
       "      <td>bOJA - Bundesweites Netzwerk Offene Jugendarbeit</td>\n",
       "      <td>AT</td>\n",
       "      <td>Wien</td>\n",
       "      <td>bOJA - Bundesweites Netzwerk Offene Jugendarbeit</td>\n",
       "      <td>1.0</td>\n",
       "    </tr>\n",
       "    <tr>\n",
       "      <th>2</th>\n",
       "      <td>2014-1-AT02-KA347-000139</td>\n",
       "      <td>2014-15</td>\n",
       "      <td>2014-12</td>\n",
       "      <td>2014-12</td>\n",
       "      <td>1</td>\n",
       "      <td>National youth meetings</td>\n",
       "      <td>???</td>\n",
       "      <td>AT</td>\n",
       "      <td>??? - ???</td>\n",
       "      <td>Male</td>\n",
       "      <td>...</td>\n",
       "      <td>Yes</td>\n",
       "      <td>No</td>\n",
       "      <td>18</td>\n",
       "      <td>AT</td>\n",
       "      <td>Wien</td>\n",
       "      <td>bOJA - Bundesweites Netzwerk Offene Jugendarbeit</td>\n",
       "      <td>AT</td>\n",
       "      <td>Wien</td>\n",
       "      <td>bOJA - Bundesweites Netzwerk Offene Jugendarbeit</td>\n",
       "      <td>1.0</td>\n",
       "    </tr>\n",
       "    <tr>\n",
       "      <th>3</th>\n",
       "      <td>2014-1-AT02-KA347-000139</td>\n",
       "      <td>2014-15</td>\n",
       "      <td>2014-12</td>\n",
       "      <td>2014-12</td>\n",
       "      <td>1</td>\n",
       "      <td>National youth meetings</td>\n",
       "      <td>???</td>\n",
       "      <td>AT</td>\n",
       "      <td>??? - ???</td>\n",
       "      <td>Undefined</td>\n",
       "      <td>...</td>\n",
       "      <td>No</td>\n",
       "      <td>No</td>\n",
       "      <td>16</td>\n",
       "      <td>AT</td>\n",
       "      <td>Ansfelden</td>\n",
       "      <td>bOJA - Bundesweites Netzwerk Offene Jugendarbeit</td>\n",
       "      <td>AT</td>\n",
       "      <td>Ansfelden</td>\n",
       "      <td>bOJA - Bundesweites Netzwerk Offene Jugendarbeit</td>\n",
       "      <td>1.0</td>\n",
       "    </tr>\n",
       "    <tr>\n",
       "      <th>4</th>\n",
       "      <td>2014-1-AT02-KA347-000139</td>\n",
       "      <td>2014-15</td>\n",
       "      <td>2014-12</td>\n",
       "      <td>2014-12</td>\n",
       "      <td>1</td>\n",
       "      <td>National youth meetings</td>\n",
       "      <td>???</td>\n",
       "      <td>AT</td>\n",
       "      <td>??? - ???</td>\n",
       "      <td>Undefined</td>\n",
       "      <td>...</td>\n",
       "      <td>No</td>\n",
       "      <td>No</td>\n",
       "      <td>18</td>\n",
       "      <td>AT</td>\n",
       "      <td>Ansfelden</td>\n",
       "      <td>bOJA - Bundesweites Netzwerk Offene Jugendarbeit</td>\n",
       "      <td>AT</td>\n",
       "      <td>Ansfelden</td>\n",
       "      <td>bOJA - Bundesweites Netzwerk Offene Jugendarbeit</td>\n",
       "      <td>1.0</td>\n",
       "    </tr>\n",
       "  </tbody>\n",
       "</table>\n",
       "<p>5 rows × 21 columns</p>\n",
       "</div>"
      ],
      "text/plain": [
       "          Project Reference Academic Year Mobility Start Month  \\\n",
       "0  2014-1-AT02-KA347-000139       2014-15              2014-12   \n",
       "1  2014-1-AT02-KA347-000139       2014-15              2014-12   \n",
       "2  2014-1-AT02-KA347-000139       2014-15              2014-12   \n",
       "3  2014-1-AT02-KA347-000139       2014-15              2014-12   \n",
       "4  2014-1-AT02-KA347-000139       2014-15              2014-12   \n",
       "\n",
       "  Mobility End Month  Mobility Duration           Activity (mob)  \\\n",
       "0            2014-12                  1  National youth meetings   \n",
       "1            2014-12                  1  National youth meetings   \n",
       "2            2014-12                  1  National youth meetings   \n",
       "3            2014-12                  1  National youth meetings   \n",
       "4            2014-12                  1  National youth meetings   \n",
       "\n",
       "  Field of Education Participant Nationality Education Level  \\\n",
       "0                ???                      AT       ??? - ???   \n",
       "1                ???                      AT       ??? - ???   \n",
       "2                ???                      AT       ??? - ???   \n",
       "3                ???                      AT       ??? - ???   \n",
       "4                ???                      AT       ??? - ???   \n",
       "\n",
       "  Participant Gender  ... Special Needs Fewer Opportunities Participant Age  \\\n",
       "0               Male  ...            No                  No              16   \n",
       "1               Male  ...            No                  No              18   \n",
       "2               Male  ...           Yes                  No              18   \n",
       "3          Undefined  ...            No                  No              16   \n",
       "4          Undefined  ...            No                  No              18   \n",
       "\n",
       "  Sending Country Code Sending City  \\\n",
       "0                   AT         Wien   \n",
       "1                   AT         Wien   \n",
       "2                   AT         Wien   \n",
       "3                   AT    Ansfelden   \n",
       "4                   AT    Ansfelden   \n",
       "\n",
       "                               Sending Organization Receiving Country Code  \\\n",
       "0  bOJA - Bundesweites Netzwerk Offene Jugendarbeit                     AT   \n",
       "1  bOJA - Bundesweites Netzwerk Offene Jugendarbeit                     AT   \n",
       "2  bOJA - Bundesweites Netzwerk Offene Jugendarbeit                     AT   \n",
       "3  bOJA - Bundesweites Netzwerk Offene Jugendarbeit                     AT   \n",
       "4  bOJA - Bundesweites Netzwerk Offene Jugendarbeit                     AT   \n",
       "\n",
       "  Receiving City                            Receiving Organization  \\\n",
       "0           Wien  bOJA - Bundesweites Netzwerk Offene Jugendarbeit   \n",
       "1           Wien  bOJA - Bundesweites Netzwerk Offene Jugendarbeit   \n",
       "2           Wien  bOJA - Bundesweites Netzwerk Offene Jugendarbeit   \n",
       "3      Ansfelden  bOJA - Bundesweites Netzwerk Offene Jugendarbeit   \n",
       "4      Ansfelden  bOJA - Bundesweites Netzwerk Offene Jugendarbeit   \n",
       "\n",
       "  Participants  \n",
       "0          1.0  \n",
       "1          1.0  \n",
       "2          1.0  \n",
       "3          1.0  \n",
       "4          1.0  \n",
       "\n",
       "[5 rows x 21 columns]"
      ]
     },
     "execution_count": 19,
     "metadata": {},
     "output_type": "execute_result"
    }
   ],
   "source": [
    "#Leitura arquivo CSV.\n",
    "\n",
    "erasmus = pd.read_csv('Finalised_mobilities_2014-2018.csv', sep=';')\n",
    "erasmus.head()"
   ]
  },
  {
   "cell_type": "code",
   "execution_count": 20,
   "id": "19b3f004",
   "metadata": {},
   "outputs": [
    {
     "data": {
      "text/plain": [
       "['Finalised_mobilities_2014-2018.csv',\n",
       " 'Finalised_mobilities_2014.csv',\n",
       " 'Finalised_mobilities_2015.csv',\n",
       " 'Finalised_mobities_2016.csv',\n",
       " 'Finalised_mobilities_2017.csv']"
      ]
     },
     "execution_count": 20,
     "metadata": {},
     "output_type": "execute_result"
    }
   ],
   "source": [
    "#Criação de uma lista co todos arquivos CSVs, uma vez que haviam vários datasets a serem compilados.\n",
    "\n",
    "erasmus_list = ['Finalised_mobilities_2014-2018.csv','Finalised_mobilities_2014.csv', 'Finalised_mobilities_2015.csv', 'Finalised_mobities_2016.csv', 'Finalised_mobilities_2017.csv']\n",
    "erasmus_list"
   ]
  },
  {
   "cell_type": "code",
   "execution_count": 21,
   "id": "34fd4e7d",
   "metadata": {},
   "outputs": [],
   "source": [
    "# Criação de uma DataFrame com base nas listas compiladas. \n",
    "\n",
    "df = pd.DataFrame()\n",
    "\n",
    "for erasmus in erasmus_list:\n",
    "    x = pd.read_csv(erasmus, sep=';', low_memory=False)\n",
    "    df = df.append(x)"
   ]
  },
  {
   "cell_type": "code",
   "execution_count": 22,
   "id": "0b1f88e3",
   "metadata": {},
   "outputs": [
    {
     "data": {
      "text/html": [
       "<div>\n",
       "<style scoped>\n",
       "    .dataframe tbody tr th:only-of-type {\n",
       "        vertical-align: middle;\n",
       "    }\n",
       "\n",
       "    .dataframe tbody tr th {\n",
       "        vertical-align: top;\n",
       "    }\n",
       "\n",
       "    .dataframe thead th {\n",
       "        text-align: right;\n",
       "    }\n",
       "</style>\n",
       "<table border=\"1\" class=\"dataframe\">\n",
       "  <thead>\n",
       "    <tr style=\"text-align: right;\">\n",
       "      <th></th>\n",
       "      <th>Project Reference</th>\n",
       "      <th>Academic Year</th>\n",
       "      <th>Mobility Start Month</th>\n",
       "      <th>Mobility End Month</th>\n",
       "      <th>Mobility Duration</th>\n",
       "      <th>Activity (mob)</th>\n",
       "      <th>Field of Education</th>\n",
       "      <th>Participant Nationality</th>\n",
       "      <th>Education Level</th>\n",
       "      <th>Participant Gender</th>\n",
       "      <th>Participant Profile</th>\n",
       "      <th>Special Needs</th>\n",
       "      <th>Fewer Opportunities</th>\n",
       "      <th>Participant Age</th>\n",
       "      <th>Sending Country Code</th>\n",
       "      <th>Sending City</th>\n",
       "      <th>Sending Organization</th>\n",
       "      <th>Receiving Country Code</th>\n",
       "      <th>Receiving City</th>\n",
       "      <th>Receiving Organization</th>\n",
       "      <th>Participants</th>\n",
       "    </tr>\n",
       "  </thead>\n",
       "  <tbody>\n",
       "    <tr>\n",
       "      <th>0</th>\n",
       "      <td>2014-1-AT02-KA347-000139</td>\n",
       "      <td>2014-15</td>\n",
       "      <td>2014-12</td>\n",
       "      <td>2014-12</td>\n",
       "      <td>1</td>\n",
       "      <td>National youth meetings</td>\n",
       "      <td>???</td>\n",
       "      <td>AT</td>\n",
       "      <td>??? - ???</td>\n",
       "      <td>Male</td>\n",
       "      <td>Learner</td>\n",
       "      <td>No</td>\n",
       "      <td>No</td>\n",
       "      <td>16</td>\n",
       "      <td>AT</td>\n",
       "      <td>Wien</td>\n",
       "      <td>bOJA - Bundesweites Netzwerk Offene Jugendarbeit</td>\n",
       "      <td>AT</td>\n",
       "      <td>Wien</td>\n",
       "      <td>bOJA - Bundesweites Netzwerk Offene Jugendarbeit</td>\n",
       "      <td>1.0</td>\n",
       "    </tr>\n",
       "    <tr>\n",
       "      <th>1</th>\n",
       "      <td>2014-1-AT02-KA347-000139</td>\n",
       "      <td>2014-15</td>\n",
       "      <td>2014-12</td>\n",
       "      <td>2014-12</td>\n",
       "      <td>1</td>\n",
       "      <td>National youth meetings</td>\n",
       "      <td>???</td>\n",
       "      <td>AT</td>\n",
       "      <td>??? - ???</td>\n",
       "      <td>Male</td>\n",
       "      <td>Learner</td>\n",
       "      <td>No</td>\n",
       "      <td>No</td>\n",
       "      <td>18</td>\n",
       "      <td>AT</td>\n",
       "      <td>Wien</td>\n",
       "      <td>bOJA - Bundesweites Netzwerk Offene Jugendarbeit</td>\n",
       "      <td>AT</td>\n",
       "      <td>Wien</td>\n",
       "      <td>bOJA - Bundesweites Netzwerk Offene Jugendarbeit</td>\n",
       "      <td>1.0</td>\n",
       "    </tr>\n",
       "  </tbody>\n",
       "</table>\n",
       "</div>"
      ],
      "text/plain": [
       "          Project Reference Academic Year Mobility Start Month  \\\n",
       "0  2014-1-AT02-KA347-000139       2014-15              2014-12   \n",
       "1  2014-1-AT02-KA347-000139       2014-15              2014-12   \n",
       "\n",
       "  Mobility End Month  Mobility Duration           Activity (mob)  \\\n",
       "0            2014-12                  1  National youth meetings   \n",
       "1            2014-12                  1  National youth meetings   \n",
       "\n",
       "  Field of Education Participant Nationality Education Level  \\\n",
       "0                ???                      AT       ??? - ???   \n",
       "1                ???                      AT       ??? - ???   \n",
       "\n",
       "  Participant Gender Participant Profile Special Needs Fewer Opportunities  \\\n",
       "0               Male             Learner            No                  No   \n",
       "1               Male             Learner            No                  No   \n",
       "\n",
       "  Participant Age Sending Country Code Sending City  \\\n",
       "0              16                   AT         Wien   \n",
       "1              18                   AT         Wien   \n",
       "\n",
       "                               Sending Organization Receiving Country Code  \\\n",
       "0  bOJA - Bundesweites Netzwerk Offene Jugendarbeit                     AT   \n",
       "1  bOJA - Bundesweites Netzwerk Offene Jugendarbeit                     AT   \n",
       "\n",
       "  Receiving City                            Receiving Organization  \\\n",
       "0           Wien  bOJA - Bundesweites Netzwerk Offene Jugendarbeit   \n",
       "1           Wien  bOJA - Bundesweites Netzwerk Offene Jugendarbeit   \n",
       "\n",
       "   Participants  \n",
       "0           1.0  \n",
       "1           1.0  "
      ]
     },
     "execution_count": 22,
     "metadata": {},
     "output_type": "execute_result"
    }
   ],
   "source": [
    "# Visualização dos do DataFrame.\n",
    "\n",
    "pd.options.display.max_columns = 21\n",
    "df.head(2)"
   ]
  },
  {
   "cell_type": "code",
   "execution_count": 23,
   "id": "047bb90f",
   "metadata": {
    "scrolled": false
   },
   "outputs": [
    {
     "data": {
      "text/plain": [
       "Index(['Project Reference', 'Academic Year', 'Mobility Start Month',\n",
       "       'Mobility End Month', 'Mobility Duration', 'Activity (mob)',\n",
       "       'Field of Education', 'Participant Nationality', 'Education Level',\n",
       "       'Participant Gender', 'Participant Profile', 'Special Needs',\n",
       "       'Fewer Opportunities', 'Participant Age', 'Sending Country Code',\n",
       "       'Sending City', 'Sending Organization', 'Receiving Country Code',\n",
       "       'Receiving City', 'Receiving Organization', 'Participants'],\n",
       "      dtype='object')"
      ]
     },
     "execution_count": 23,
     "metadata": {},
     "output_type": "execute_result"
    }
   ],
   "source": [
    "# Trouxe as colunas para verificar quais são aquelas que em interessam para fins de responder minhas questões.\n",
    "\n",
    "df.columns"
   ]
  },
  {
   "cell_type": "code",
   "execution_count": 24,
   "id": "35a36adc",
   "metadata": {},
   "outputs": [
    {
     "name": "stdout",
     "output_type": "stream",
     "text": [
      "<class 'pandas.core.frame.DataFrame'>\n",
      "Int64Index: 905504 entries, 0 to 642076\n",
      "Data columns (total 21 columns):\n",
      " #   Column                   Non-Null Count   Dtype  \n",
      "---  ------                   --------------   -----  \n",
      " 0   Project Reference        905504 non-null  object \n",
      " 1   Academic Year            905504 non-null  object \n",
      " 2   Mobility Start Month     905504 non-null  object \n",
      " 3   Mobility End Month       905504 non-null  object \n",
      " 4   Mobility Duration        905504 non-null  int64  \n",
      " 5   Activity (mob)           905504 non-null  object \n",
      " 6   Field of Education       905504 non-null  object \n",
      " 7   Participant Nationality  905494 non-null  object \n",
      " 8   Education Level          905503 non-null  object \n",
      " 9   Participant Gender       905503 non-null  object \n",
      " 10  Participant Profile      905503 non-null  object \n",
      " 11  Special Needs            905503 non-null  object \n",
      " 12  Fewer Opportunities      905503 non-null  object \n",
      " 13  Participant Age          905503 non-null  object \n",
      " 14  Sending Country Code     905494 non-null  object \n",
      " 15  Sending City             905493 non-null  object \n",
      " 16  Sending Organization     905503 non-null  object \n",
      " 17  Receiving Country Code   905500 non-null  object \n",
      " 18  Receiving City           905501 non-null  object \n",
      " 19  Receiving Organization   905501 non-null  object \n",
      " 20  Participants             905500 non-null  float64\n",
      "dtypes: float64(1), int64(1), object(19)\n",
      "memory usage: 152.0+ MB\n"
     ]
    }
   ],
   "source": [
    "df.info()"
   ]
  },
  {
   "cell_type": "code",
   "execution_count": 25,
   "id": "501e32bc",
   "metadata": {},
   "outputs": [],
   "source": [
    "df.to_csv('Erasmus.csv')"
   ]
  },
  {
   "cell_type": "markdown",
   "id": "4d051441",
   "metadata": {},
   "source": [
    "##### Pergunta 1: Número total de participantes no Erasmus+ Programme entre 2014 e 2018? ######\n",
    "   <p> Foram ao todo <b>1.594.014 participantes </b> entre todos os projetos pertecentes ao Erasmus+ Programme.\n",
    "    "
   ]
  },
  {
   "cell_type": "markdown",
   "id": "5bd9984b",
   "metadata": {},
   "source": [
    "###### Pergunta 2: Número de programas de mobilidade contemplados? #####\n",
    "\n",
    "O Eramus+ Programme contempla <b> 32 modalidades</b> de mobilidade.\n",
    "\n",
    "O Erasmus Programme faz parte do Espaço Europeu de Educação Superior e é o novo programa que combina todos os atuais planos da UE para educação, formação, juventude e desporto iniciados em janeiro de 2014. Atualmente o programa contempla 32 modalidades distintas, que variam desde o intercambio universitário em seus diferentes graus (licenciatura, mestrado, doutorado e PosDoc) para fins de pesquisa e investigação cientifica ou estágio, assim como contempla"
   ]
  },
  {
   "cell_type": "markdown",
   "id": "ab5dab67",
   "metadata": {},
   "source": [
    "###### Pergunta 3: Número de participantes no modalidade Student mobility for studies between Programme Countries? ######\n",
    "\n",
    "<p>No programa de mobilidade estudantil, por sua vez, foram 471.716 participantes, o que corresponde a 0.29% dos participantes no programa selecionado. <p>"
   ]
  },
  {
   "cell_type": "code",
   "execution_count": 26,
   "id": "6a374892",
   "metadata": {},
   "outputs": [
    {
     "data": {
      "text/plain": [
       "array(['National youth meetings', 'Transnational youth meetings',\n",
       "       'Youth Exchanges - Programme Countries', 'Staff training abroad',\n",
       "       'Training/teaching assignments abroad',\n",
       "       'VET learners traineeships in companies abroad',\n",
       "       'VET learners traineeships in vocational institutes abroad',\n",
       "       'Student mobility for studies between Programme Countries',\n",
       "       'Student mobility for traineeships between Programme Countries',\n",
       "       'Staff mobility for teaching between Programme Countries',\n",
       "       'Staff mobility for training between Programme Countries',\n",
       "       'European Voluntary Service - Programme Countries',\n",
       "       'Youth Exchanges - Partner Countries',\n",
       "       'Mobility of youth workers - Partner Countries',\n",
       "       'Mobility of youth workers - Programme Countries',\n",
       "       'European Voluntary Service - Partner Countries', 'Job Shadowing',\n",
       "       'Structured Courses/Training Events',\n",
       "       'Staff mobility for Teaching To/From Partner Countries',\n",
       "       'Student mobility for Studies To/From Partner Countries',\n",
       "       'Staff mobility for Training To/From Partner Countries',\n",
       "       'Advance Planning Visit – Youth Exchange',\n",
       "       'Advance Planning Visit – EVS',\n",
       "       'Teaching/training assignments abroad'], dtype=object)"
      ]
     },
     "execution_count": 26,
     "metadata": {},
     "output_type": "execute_result"
    }
   ],
   "source": [
    "df['Activity (mob)'].unique()"
   ]
  },
  {
   "cell_type": "code",
   "execution_count": 27,
   "id": "cf432ed7",
   "metadata": {},
   "outputs": [
    {
     "data": {
      "text/plain": [
       "array(['AT', 'BE', 'BG', 'CY', 'CZ', 'DE', 'DK', 'EE', 'EL', 'ES', 'FI',\n",
       "       'FR', 'HR', 'HU', 'IE', 'IT', 'LT', 'LU', 'LV', 'MK', 'MT', 'NL',\n",
       "       'NO', 'PL', 'PT', 'RO', 'SE', 'SI', 'SK', 'TR', 'UK', 'IS', 'LI',\n",
       "       'RU', 'GE', nan, 'AZ', 'JO', 'MA', 'RS', 'MD', 'PS', 'IL', 'BA',\n",
       "       'CU', 'AR', 'CA', 'CR', 'ZA', 'CL', 'KZ', 'UZ', 'KG', 'BT', 'ID',\n",
       "       'UA', 'AU', 'US', 'SV', 'JP', 'BR', 'CN', 'ME', 'TH', 'AM', 'VN',\n",
       "       'PH', 'KR', 'HK', 'TW', 'EC', 'TN', 'MY', 'IN', 'MX', 'AL', 'NP',\n",
       "       'NI', 'BY', 'LK', 'BO', 'PE', 'EG', 'PY', 'CO', 'PK', 'LB', 'XK',\n",
       "       'DZ', 'AF', 'SG', 'UY', 'NZ', 'GI', 'HN', 'KH', 'LA', 'MN', 'TJ',\n",
       "       'GT', 'MM', 'BD', 'MO', 'TT', 'UG', 'PF', 'TZ', 'SR', 'ZM', 'GH',\n",
       "       'GA', 'ET', 'NC', 'JM', 'BN', 'MZ', 'MU', 'TG', 'CV', 'SN', 'BB',\n",
       "       'CI', 'HT', 'MG', 'KE', 'TC', 'ML', 'TL', 'GL', 'NE', 'SD', 'AW',\n",
       "       'KY', 'DO', 'FJ', 'LS', 'BJ', 'BW', 'MW', 'MS', 'CM', 'RW', 'MV',\n",
       "       'IR', 'GW', 'VG', 'CW', 'SX'], dtype=object)"
      ]
     },
     "execution_count": 27,
     "metadata": {},
     "output_type": "execute_result"
    }
   ],
   "source": [
    "df['Receiving Country Code'].unique()"
   ]
  },
  {
   "cell_type": "code",
   "execution_count": 28,
   "id": "099bceb2",
   "metadata": {},
   "outputs": [
    {
     "data": {
      "text/plain": [
       "Student mobility for studies between Programme Countries         249795\n",
       "National youth meetings                                          108230\n",
       "Student mobility for traineeships between Programme Countries    105989\n",
       "VET learners traineeships in companies abroad                     97816\n",
       "Youth Exchanges - Programme Countries                             61369\n",
       "Staff mobility for teaching between Programme Countries           43049\n",
       "Staff training abroad                                             31095\n",
       "Staff mobility for training between Programme Countries           28557\n",
       "VET learners traineeships in vocational institutes abroad         24889\n",
       "Structured Courses/Training Events                                24699\n",
       "Mobility of youth workers - Programme Countries                   21031\n",
       "Youth Exchanges - Partner Countries                               19894\n",
       "Transnational youth meetings                                      18504\n",
       "Student mobility for Studies To/From Partner Countries            14131\n",
       "Mobility of youth workers - Partner Countries                     12271\n",
       "Staff mobility for Teaching To/From Partner Countries              9314\n",
       "European Voluntary Service - Programme Countries                   8316\n",
       "Job Shadowing                                                      7186\n",
       "Staff mobility for Training To/From Partner Countries              6426\n",
       "Advance Planning Visit – Youth Exchange                            6161\n",
       "Training/teaching assignments abroad                               3710\n",
       "European Voluntary Service - Partner Countries                     2390\n",
       "Teaching/training assignments abroad                                394\n",
       "Advance Planning Visit – EVS                                        288\n",
       "Name: Activity (mob), dtype: int64"
      ]
     },
     "execution_count": 28,
     "metadata": {},
     "output_type": "execute_result"
    }
   ],
   "source": [
    "# modalidades do programa. \n",
    "df['Activity (mob)'].value_counts()"
   ]
  },
  {
   "cell_type": "code",
   "execution_count": 29,
   "id": "198bb199",
   "metadata": {},
   "outputs": [
    {
     "data": {
      "text/plain": [
       "Student mobility for studies between Programme Countries         0.275863\n",
       "National youth meetings                                          0.119525\n",
       "Student mobility for traineeships between Programme Countries    0.117050\n",
       "VET learners traineeships in companies abroad                    0.108024\n",
       "Youth Exchanges - Programme Countries                            0.067773\n",
       "Staff mobility for teaching between Programme Countries          0.047541\n",
       "Staff training abroad                                            0.034340\n",
       "Staff mobility for training between Programme Countries          0.031537\n",
       "VET learners traineeships in vocational institutes abroad        0.027486\n",
       "Structured Courses/Training Events                               0.027277\n",
       "Mobility of youth workers - Programme Countries                  0.023226\n",
       "Youth Exchanges - Partner Countries                              0.021970\n",
       "Transnational youth meetings                                     0.020435\n",
       "Student mobility for Studies To/From Partner Countries           0.015606\n",
       "Mobility of youth workers - Partner Countries                    0.013552\n",
       "Staff mobility for Teaching To/From Partner Countries            0.010286\n",
       "European Voluntary Service - Programme Countries                 0.009184\n",
       "Job Shadowing                                                    0.007936\n",
       "Staff mobility for Training To/From Partner Countries            0.007097\n",
       "Advance Planning Visit – Youth Exchange                          0.006804\n",
       "Training/teaching assignments abroad                             0.004097\n",
       "European Voluntary Service - Partner Countries                   0.002639\n",
       "Teaching/training assignments abroad                             0.000435\n",
       "Advance Planning Visit – EVS                                     0.000318\n",
       "Name: Activity (mob), dtype: float64"
      ]
     },
     "execution_count": 29,
     "metadata": {},
     "output_type": "execute_result"
    }
   ],
   "source": [
    "# % correspondente a cada modalidade na análise global dos dados.\n",
    "\n",
    "df['Activity (mob)'].value_counts(normalize=True)"
   ]
  },
  {
   "cell_type": "code",
   "execution_count": 30,
   "id": "da2a8ed4",
   "metadata": {},
   "outputs": [
    {
     "data": {
      "text/html": [
       "<div>\n",
       "<style scoped>\n",
       "    .dataframe tbody tr th:only-of-type {\n",
       "        vertical-align: middle;\n",
       "    }\n",
       "\n",
       "    .dataframe tbody tr th {\n",
       "        vertical-align: top;\n",
       "    }\n",
       "\n",
       "    .dataframe thead th {\n",
       "        text-align: right;\n",
       "    }\n",
       "</style>\n",
       "<table border=\"1\" class=\"dataframe\">\n",
       "  <thead>\n",
       "    <tr style=\"text-align: right;\">\n",
       "      <th></th>\n",
       "      <th>Project Reference</th>\n",
       "      <th>Academic Year</th>\n",
       "      <th>Mobility Start Month</th>\n",
       "      <th>Mobility End Month</th>\n",
       "      <th>Mobility Duration</th>\n",
       "      <th>Activity (mob)</th>\n",
       "      <th>Field of Education</th>\n",
       "      <th>Participant Nationality</th>\n",
       "      <th>Education Level</th>\n",
       "      <th>Participant Gender</th>\n",
       "      <th>Participant Profile</th>\n",
       "      <th>Special Needs</th>\n",
       "      <th>Fewer Opportunities</th>\n",
       "      <th>Participant Age</th>\n",
       "      <th>Sending Country Code</th>\n",
       "      <th>Sending City</th>\n",
       "      <th>Sending Organization</th>\n",
       "      <th>Receiving Country Code</th>\n",
       "      <th>Receiving City</th>\n",
       "      <th>Receiving Organization</th>\n",
       "      <th>Participants</th>\n",
       "    </tr>\n",
       "  </thead>\n",
       "  <tbody>\n",
       "    <tr>\n",
       "      <th>1701</th>\n",
       "      <td>2014-1-AT01-KA103-000024</td>\n",
       "      <td>2014-15</td>\n",
       "      <td>2014-08</td>\n",
       "      <td>2014-12</td>\n",
       "      <td>107</td>\n",
       "      <td>Student mobility for studies between Programme...</td>\n",
       "      <td>Education</td>\n",
       "      <td>AT</td>\n",
       "      <td>ISCED-6 - First cycle / Bachelor’s or equivale...</td>\n",
       "      <td>Female</td>\n",
       "      <td>Learner</td>\n",
       "      <td>No</td>\n",
       "      <td>No</td>\n",
       "      <td>21</td>\n",
       "      <td>AT</td>\n",
       "      <td>INNSBRUCK</td>\n",
       "      <td>Private Pädagogische Hochschule - Hochschulsti...</td>\n",
       "      <td>FI</td>\n",
       "      <td>ABO</td>\n",
       "      <td>ABO AKADEMI</td>\n",
       "      <td>1.0</td>\n",
       "    </tr>\n",
       "    <tr>\n",
       "      <th>1702</th>\n",
       "      <td>2014-1-AT01-KA103-000024</td>\n",
       "      <td>2014-15</td>\n",
       "      <td>2014-08</td>\n",
       "      <td>2015-01</td>\n",
       "      <td>160</td>\n",
       "      <td>Student mobility for studies between Programme...</td>\n",
       "      <td>Education</td>\n",
       "      <td>AT</td>\n",
       "      <td>ISCED-6 - First cycle / Bachelor’s or equivale...</td>\n",
       "      <td>Female</td>\n",
       "      <td>Learner</td>\n",
       "      <td>No</td>\n",
       "      <td>No</td>\n",
       "      <td>21</td>\n",
       "      <td>AT</td>\n",
       "      <td>INNSBRUCK</td>\n",
       "      <td>Private Pädagogische Hochschule - Hochschulsti...</td>\n",
       "      <td>SE</td>\n",
       "      <td>MALMOE</td>\n",
       "      <td>MALMOE HOEGSKOLA (MALMOE UNIVERSITY)</td>\n",
       "      <td>2.0</td>\n",
       "    </tr>\n",
       "  </tbody>\n",
       "</table>\n",
       "</div>"
      ],
      "text/plain": [
       "             Project Reference Academic Year Mobility Start Month  \\\n",
       "1701  2014-1-AT01-KA103-000024       2014-15              2014-08   \n",
       "1702  2014-1-AT01-KA103-000024       2014-15              2014-08   \n",
       "\n",
       "     Mobility End Month  Mobility Duration  \\\n",
       "1701            2014-12                107   \n",
       "1702            2015-01                160   \n",
       "\n",
       "                                         Activity (mob) Field of Education  \\\n",
       "1701  Student mobility for studies between Programme...          Education   \n",
       "1702  Student mobility for studies between Programme...          Education   \n",
       "\n",
       "     Participant Nationality  \\\n",
       "1701                      AT   \n",
       "1702                      AT   \n",
       "\n",
       "                                        Education Level Participant Gender  \\\n",
       "1701  ISCED-6 - First cycle / Bachelor’s or equivale...             Female   \n",
       "1702  ISCED-6 - First cycle / Bachelor’s or equivale...             Female   \n",
       "\n",
       "     Participant Profile Special Needs Fewer Opportunities Participant Age  \\\n",
       "1701             Learner            No                  No              21   \n",
       "1702             Learner            No                  No              21   \n",
       "\n",
       "     Sending Country Code Sending City  \\\n",
       "1701                   AT    INNSBRUCK   \n",
       "1702                   AT    INNSBRUCK   \n",
       "\n",
       "                                   Sending Organization  \\\n",
       "1701  Private Pädagogische Hochschule - Hochschulsti...   \n",
       "1702  Private Pädagogische Hochschule - Hochschulsti...   \n",
       "\n",
       "     Receiving Country Code Receiving City  \\\n",
       "1701                     FI            ABO   \n",
       "1702                     SE         MALMOE   \n",
       "\n",
       "                    Receiving Organization  Participants  \n",
       "1701                           ABO AKADEMI           1.0  \n",
       "1702  MALMOE HOEGSKOLA (MALMOE UNIVERSITY)           2.0  "
      ]
     },
     "execution_count": 30,
     "metadata": {},
     "output_type": "execute_result"
    }
   ],
   "source": [
    "# Filtro pela modalidade'Student mobility for studies between Programme Countries'\n",
    "\n",
    "df_mob = df[df['Activity (mob)']=='Student mobility for studies between Programme Countries'].copy()\n",
    "df_mob.head(2)"
   ]
  },
  {
   "cell_type": "code",
   "execution_count": 31,
   "id": "6349fb6a",
   "metadata": {},
   "outputs": [
    {
     "data": {
      "text/plain": [
       "1117523.0"
      ]
     },
     "execution_count": 31,
     "metadata": {},
     "output_type": "execute_result"
    }
   ],
   "source": [
    "df.Participants.sum()"
   ]
  },
  {
   "cell_type": "code",
   "execution_count": 32,
   "id": "2d3cada7",
   "metadata": {},
   "outputs": [
    {
     "data": {
      "text/plain": [
       "260357.0"
      ]
     },
     "execution_count": 32,
     "metadata": {},
     "output_type": "execute_result"
    }
   ],
   "source": [
    "df_mob.Participants.sum()"
   ]
  },
  {
   "cell_type": "code",
   "execution_count": 33,
   "id": "befbd672",
   "metadata": {
    "scrolled": true
   },
   "outputs": [
    {
     "data": {
      "text/plain": [
       "DE    0.139001\n",
       "FR    0.094443\n",
       "ES    0.088655\n",
       "IT    0.074705\n",
       "PL    0.052834\n",
       "        ...   \n",
       "PA    0.000001\n",
       "NE    0.000001\n",
       "AO    0.000001\n",
       "ST    0.000001\n",
       "BN    0.000001\n",
       "Name: Sending Country Code, Length: 150, dtype: float64"
      ]
     },
     "execution_count": 33,
     "metadata": {},
     "output_type": "execute_result"
    }
   ],
   "source": [
    "df['Sending Country Code'].value_counts(normalize=True)"
   ]
  },
  {
   "cell_type": "code",
   "execution_count": 34,
   "id": "2cb5e873",
   "metadata": {},
   "outputs": [],
   "source": [
    "df.to_csv('Percentual_Sending_Country.csv')"
   ]
  },
  {
   "cell_type": "code",
   "execution_count": 35,
   "id": "74f6ed9a",
   "metadata": {
    "scrolled": true
   },
   "outputs": [
    {
     "data": {
      "text/plain": [
       "ES    0.118948\n",
       "UK    0.097965\n",
       "DE    0.093903\n",
       "IT    0.078034\n",
       "FR    0.069892\n",
       "        ...   \n",
       "MV    0.000001\n",
       "GW    0.000001\n",
       "NE    0.000001\n",
       "GT    0.000001\n",
       "TG    0.000001\n",
       "Name: Receiving Country Code, Length: 147, dtype: float64"
      ]
     },
     "execution_count": 35,
     "metadata": {},
     "output_type": "execute_result"
    }
   ],
   "source": [
    "Percentual_Receiving_Country = df['Receiving Country Code'].value_counts(normalize=True)\n",
    "Percentual_Receiving_Country"
   ]
  },
  {
   "cell_type": "code",
   "execution_count": 36,
   "id": "42842788",
   "metadata": {},
   "outputs": [],
   "source": [
    "Percentual_Receiving_Country.to_csv('Percentual_Receiving_Country.csv')"
   ]
  },
  {
   "cell_type": "code",
   "execution_count": 37,
   "id": "c5b23b8f",
   "metadata": {},
   "outputs": [
    {
     "data": {
      "text/plain": [
       "Academic Year\n",
       "2014-15     13375.0\n",
       "2015-16     18747.0\n",
       "2016-17     68541.0\n",
       "2017-18    159694.0\n",
       "Name: Participants, dtype: float64"
      ]
     },
     "execution_count": 37,
     "metadata": {},
     "output_type": "execute_result"
    }
   ],
   "source": [
    "df_mob.groupby('Academic Year').Participants.sum()"
   ]
  },
  {
   "cell_type": "code",
   "execution_count": 38,
   "id": "1abb51a2",
   "metadata": {
    "scrolled": true
   },
   "outputs": [
    {
     "data": {
      "text/plain": [
       "<AxesSubplot:xlabel='Academic Year'>"
      ]
     },
     "execution_count": 38,
     "metadata": {},
     "output_type": "execute_result"
    },
    {
     "data": {
      "image/png": "[encoded data removed]",
      "text/plain": [
       "<Figure size 432x288 with 1 Axes>"
      ]
     },
     "metadata": {
      "needs_background": "light"
     },
     "output_type": "display_data"
    }
   ],
   "source": [
    "#métrica aluno (Participants), dimensoes variadas (ano academico, genero, paises, cidades, universidades).\n",
    "# o que houve entre 2016 e 2017? Responder depende da minha abordagem.\n",
    "df_mob.groupby('Academic Year').Participants.sum().plot()"
   ]
  },
  {
   "cell_type": "code",
   "execution_count": 39,
   "id": "8935f267",
   "metadata": {},
   "outputs": [
    {
     "data": {
      "text/html": [
       "<div>\n",
       "<style scoped>\n",
       "    .dataframe tbody tr th:only-of-type {\n",
       "        vertical-align: middle;\n",
       "    }\n",
       "\n",
       "    .dataframe tbody tr th {\n",
       "        vertical-align: top;\n",
       "    }\n",
       "\n",
       "    .dataframe thead th {\n",
       "        text-align: right;\n",
       "    }\n",
       "</style>\n",
       "<table border=\"1\" class=\"dataframe\">\n",
       "  <thead>\n",
       "    <tr style=\"text-align: right;\">\n",
       "      <th>Participant Gender</th>\n",
       "      <th>Female</th>\n",
       "      <th>Male</th>\n",
       "      <th>Undefined</th>\n",
       "    </tr>\n",
       "    <tr>\n",
       "      <th>Academic Year</th>\n",
       "      <th></th>\n",
       "      <th></th>\n",
       "      <th></th>\n",
       "    </tr>\n",
       "  </thead>\n",
       "  <tbody>\n",
       "    <tr>\n",
       "      <th>2014-15</th>\n",
       "      <td>8563.0</td>\n",
       "      <td>4812.0</td>\n",
       "      <td>NaN</td>\n",
       "    </tr>\n",
       "    <tr>\n",
       "      <th>2015-16</th>\n",
       "      <td>11921.0</td>\n",
       "      <td>6824.0</td>\n",
       "      <td>2.0</td>\n",
       "    </tr>\n",
       "    <tr>\n",
       "      <th>2016-17</th>\n",
       "      <td>41953.0</td>\n",
       "      <td>26584.0</td>\n",
       "      <td>4.0</td>\n",
       "    </tr>\n",
       "    <tr>\n",
       "      <th>2017-18</th>\n",
       "      <td>95358.0</td>\n",
       "      <td>64242.0</td>\n",
       "      <td>94.0</td>\n",
       "    </tr>\n",
       "  </tbody>\n",
       "</table>\n",
       "</div>"
      ],
      "text/plain": [
       "Participant Gender   Female     Male  Undefined\n",
       "Academic Year                                  \n",
       "2014-15              8563.0   4812.0        NaN\n",
       "2015-16             11921.0   6824.0        2.0\n",
       "2016-17             41953.0  26584.0        4.0\n",
       "2017-18             95358.0  64242.0       94.0"
      ]
     },
     "execution_count": 39,
     "metadata": {},
     "output_type": "execute_result"
    }
   ],
   "source": [
    "df_mob.groupby(['Academic Year', 'Participant Gender']).Participants.sum().unstack()"
   ]
  },
  {
   "cell_type": "code",
   "execution_count": 40,
   "id": "513f3c8c",
   "metadata": {
    "scrolled": true
   },
   "outputs": [
    {
     "data": {
      "text/plain": [
       "<AxesSubplot:xlabel='Academic Year'>"
      ]
     },
     "execution_count": 40,
     "metadata": {},
     "output_type": "execute_result"
    },
    {
     "data": {
      "image/png": "[encoded data removed]",
      "text/plain": [
       "<Figure size 432x288 with 1 Axes>"
      ]
     },
     "metadata": {
      "needs_background": "light"
     },
     "output_type": "display_data"
    }
   ],
   "source": [
    "df_mob.groupby(['Academic Year', 'Participant Gender']).Participants.sum().unstack().plot()"
   ]
  },
  {
   "cell_type": "code",
   "execution_count": 41,
   "id": "f5d81aa5",
   "metadata": {},
   "outputs": [
    {
     "data": {
      "text/plain": [
       "<AxesSubplot:xlabel='Academic Year'>"
      ]
     },
     "execution_count": 41,
     "metadata": {},
     "output_type": "execute_result"
    },
    {
     "data": {
      "image/png": "[encoded data removed]",
      "text/plain": [
       "<Figure size 432x288 with 1 Axes>"
      ]
     },
     "metadata": {
      "needs_background": "light"
     },
     "output_type": "display_data"
    }
   ],
   "source": [
    "df_mob.groupby(['Academic Year', 'Participant Gender']).Participants.sum().unstack().Undefined.plot()"
   ]
  },
  {
   "cell_type": "code",
   "execution_count": 42,
   "id": "f95f49ab",
   "metadata": {},
   "outputs": [
    {
     "data": {
      "text/plain": [
       "Sending Country Code\n",
       "DE    44744.0\n",
       "ES    32907.0\n",
       "FR    29858.0\n",
       "IT    29024.0\n",
       "TR    13405.0\n",
       "AT    11630.0\n",
       "BE    11427.0\n",
       "CZ    10349.0\n",
       "PL    10012.0\n",
       "NL     9780.0\n",
       "Name: Participants, dtype: float64"
      ]
     },
     "execution_count": 42,
     "metadata": {},
     "output_type": "execute_result"
    }
   ],
   "source": [
    "df_mob.groupby(['Sending Country Code']).Participants.sum().sort_values(ascending=False).head(10)\n"
   ]
  },
  {
   "cell_type": "code",
   "execution_count": 43,
   "id": "6477f840",
   "metadata": {},
   "outputs": [
    {
     "data": {
      "text/plain": [
       "<AxesSubplot:xlabel='Sending Country Code'>"
      ]
     },
     "execution_count": 43,
     "metadata": {},
     "output_type": "execute_result"
    },
    {
     "data": {
      "image/png": "[encoded data removed]",
      "text/plain": [
       "<Figure size 432x288 with 1 Axes>"
      ]
     },
     "metadata": {
      "needs_background": "light"
     },
     "output_type": "display_data"
    }
   ],
   "source": [
    "df_mob.groupby(['Sending Country Code']).Participants.sum().sort_values(ascending=False).head(10).plot(kind='bar')\n"
   ]
  },
  {
   "cell_type": "code",
   "execution_count": 44,
   "id": "a586575e",
   "metadata": {
    "scrolled": true
   },
   "outputs": [
    {
     "data": {
      "text/plain": [
       "Sending City\n",
       "WIEN          4068.0\n",
       "MADRID        2972.0\n",
       "MILANO        2899.0\n",
       "VALENCIA      2804.0\n",
       "ISTANBUL      2392.0\n",
       "München       2323.0\n",
       "BOLOGNA       2294.0\n",
       "Paris         2242.0\n",
       "LISBOA        2234.0\n",
       "BRNO STRED    2110.0\n",
       "Name: Participants, dtype: float64"
      ]
     },
     "execution_count": 44,
     "metadata": {},
     "output_type": "execute_result"
    }
   ],
   "source": [
    "df_mob.groupby(['Sending City']).Participants.sum().sort_values(ascending=False).head(10)"
   ]
  },
  {
   "cell_type": "code",
   "execution_count": 45,
   "id": "74c3f1c0",
   "metadata": {},
   "outputs": [
    {
     "data": {
      "text/plain": [
       "Sending Organization\n",
       "UNIVERSITAT WIEN                                2403.0\n",
       "ALMA MATER STUDIORUM - UNIVERSITA DI BOLOGNA    2255.0\n",
       "UNIVERSIDAD DE GRANADA                          1930.0\n",
       "Masarykova univerzita                           1663.0\n",
       "KATHOLIEKE UNIVERSITEIT LEUVEN                  1618.0\n",
       "UNIVERSITAT DE VALENCIA                         1532.0\n",
       "UNIVERSITA DEGLI STUDI DI PADOVA                1473.0\n",
       "UNIVERSIDAD COMPLUTENSE DE MADRID               1446.0\n",
       "UNIVERSITA DEGLI STUDI DI ROMA LA SAPIENZA      1414.0\n",
       "UNIVERSIDAD POLITECNICA DE MADRID               1256.0\n",
       "Name: Participants, dtype: float64"
      ]
     },
     "execution_count": 45,
     "metadata": {},
     "output_type": "execute_result"
    }
   ],
   "source": [
    "df_mob.groupby(['Sending Organization']).Participants.sum().sort_values(ascending=False).head(10)"
   ]
  },
  {
   "cell_type": "code",
   "execution_count": 46,
   "id": "472ebaa4",
   "metadata": {},
   "outputs": [
    {
     "data": {
      "text/plain": [
       "Sending Country Code  Sending City\n",
       "AT                    WIEN            4068.0\n",
       "ES                    MADRID          2972.0\n",
       "IT                    MILANO          2899.0\n",
       "ES                    VALENCIA        2804.0\n",
       "TR                    ISTANBUL        2392.0\n",
       "DE                    München         2323.0\n",
       "IT                    BOLOGNA         2294.0\n",
       "FR                    Paris           2242.0\n",
       "PT                    LISBOA          2234.0\n",
       "CZ                    BRNO STRED      2110.0\n",
       "Name: Participants, dtype: float64"
      ]
     },
     "execution_count": 46,
     "metadata": {},
     "output_type": "execute_result"
    }
   ],
   "source": [
    "df_mob.groupby(['Sending Country Code','Sending City']).Participants.sum().sort_values(ascending=False).head(10)"
   ]
  },
  {
   "cell_type": "code",
   "execution_count": 47,
   "id": "3a0a702b",
   "metadata": {},
   "outputs": [
    {
     "data": {
      "text/plain": [
       "Receiving Country Code\n",
       "ES    39256.0\n",
       "FR    24887.0\n",
       "DE    23824.0\n",
       "IT    22806.0\n",
       "UK    20637.0\n",
       "PL    15150.0\n",
       "PT    12986.0\n",
       "NL    11799.0\n",
       "SE    10309.0\n",
       "FI     9226.0\n",
       "CZ     8612.0\n",
       "BE     7133.0\n",
       "NO     7121.0\n",
       "AT     6138.0\n",
       "IE     5631.0\n",
       "DK     5222.0\n",
       "HU     5144.0\n",
       "TR     3260.0\n",
       "EL     2966.0\n",
       "LT     2834.0\n",
       "RO     2714.0\n",
       "SI     2589.0\n",
       "HR     1950.0\n",
       "EE     1695.0\n",
       "LV     1683.0\n",
       "SK     1681.0\n",
       "BG      981.0\n",
       "CY      712.0\n",
       "IS      701.0\n",
       "MT      452.0\n",
       "LU      167.0\n",
       "MK       51.0\n",
       "LI       40.0\n",
       "Name: Participants, dtype: float64"
      ]
     },
     "execution_count": 47,
     "metadata": {},
     "output_type": "execute_result"
    }
   ],
   "source": [
    "df_mob_rec_country = df_mob.groupby(['Receiving Country Code']).Participants.sum().sort_values(ascending=False)\n",
    "df_mob_rec_country"
   ]
  },
  {
   "cell_type": "code",
   "execution_count": 48,
   "id": "61df1264",
   "metadata": {},
   "outputs": [],
   "source": [
    "df_mob_rec_country.to_csv('Receiving_Country.csv')"
   ]
  },
  {
   "cell_type": "code",
   "execution_count": 49,
   "id": "5b89255f",
   "metadata": {},
   "outputs": [
    {
     "data": {
      "text/plain": [
       "Receiving Country Code\n",
       "ES    39256.0\n",
       "FR    24887.0\n",
       "DE    23824.0\n",
       "IT    22806.0\n",
       "UK    20637.0\n",
       "PL    15150.0\n",
       "PT    12986.0\n",
       "NL    11799.0\n",
       "SE    10309.0\n",
       "FI     9226.0\n",
       "CZ     8612.0\n",
       "BE     7133.0\n",
       "NO     7121.0\n",
       "AT     6138.0\n",
       "IE     5631.0\n",
       "DK     5222.0\n",
       "HU     5144.0\n",
       "TR     3260.0\n",
       "EL     2966.0\n",
       "LT     2834.0\n",
       "RO     2714.0\n",
       "SI     2589.0\n",
       "HR     1950.0\n",
       "EE     1695.0\n",
       "LV     1683.0\n",
       "SK     1681.0\n",
       "BG      981.0\n",
       "CY      712.0\n",
       "IS      701.0\n",
       "MT      452.0\n",
       "LU      167.0\n",
       "MK       51.0\n",
       "LI       40.0\n",
       "Name: Participants, dtype: float64"
      ]
     },
     "execution_count": 49,
     "metadata": {},
     "output_type": "execute_result"
    },
    {
     "data": {
      "image/png": "[encoded data removed]",
      "text/plain": [
       "<Figure size 432x288 with 1 Axes>"
      ]
     },
     "metadata": {
      "needs_background": "light"
     },
     "output_type": "display_data"
    }
   ],
   "source": [
    "df_mob.groupby(['Receiving Country Code']).Participants.sum().sort_values(ascending=False).head(10).plot(kind='bar')\n",
    "df_mob_rec_country"
   ]
  },
  {
   "cell_type": "code",
   "execution_count": 50,
   "id": "aced0ad5",
   "metadata": {},
   "outputs": [
    {
     "data": {
      "text/html": [
       "<div>\n",
       "<style scoped>\n",
       "    .dataframe tbody tr th:only-of-type {\n",
       "        vertical-align: middle;\n",
       "    }\n",
       "\n",
       "    .dataframe tbody tr th {\n",
       "        vertical-align: top;\n",
       "    }\n",
       "\n",
       "    .dataframe thead th {\n",
       "        text-align: right;\n",
       "    }\n",
       "</style>\n",
       "<table border=\"1\" class=\"dataframe\">\n",
       "  <thead>\n",
       "    <tr style=\"text-align: right;\">\n",
       "      <th></th>\n",
       "      <th>Academic Year</th>\n",
       "      <th>Receiving Country Code</th>\n",
       "      <th>Participants</th>\n",
       "    </tr>\n",
       "  </thead>\n",
       "  <tbody>\n",
       "    <tr>\n",
       "      <th>108</th>\n",
       "      <td>2017-18</td>\n",
       "      <td>ES</td>\n",
       "      <td>23785.0</td>\n",
       "    </tr>\n",
       "    <tr>\n",
       "      <th>110</th>\n",
       "      <td>2017-18</td>\n",
       "      <td>FR</td>\n",
       "      <td>16442.0</td>\n",
       "    </tr>\n",
       "    <tr>\n",
       "      <th>115</th>\n",
       "      <td>2017-18</td>\n",
       "      <td>IT</td>\n",
       "      <td>14945.0</td>\n",
       "    </tr>\n",
       "    <tr>\n",
       "      <th>104</th>\n",
       "      <td>2017-18</td>\n",
       "      <td>DE</td>\n",
       "      <td>14856.0</td>\n",
       "    </tr>\n",
       "    <tr>\n",
       "      <th>131</th>\n",
       "      <td>2017-18</td>\n",
       "      <td>UK</td>\n",
       "      <td>14121.0</td>\n",
       "    </tr>\n",
       "    <tr>\n",
       "      <th>124</th>\n",
       "      <td>2017-18</td>\n",
       "      <td>PL</td>\n",
       "      <td>9639.0</td>\n",
       "    </tr>\n",
       "    <tr>\n",
       "      <th>125</th>\n",
       "      <td>2017-18</td>\n",
       "      <td>PT</td>\n",
       "      <td>7798.0</td>\n",
       "    </tr>\n",
       "    <tr>\n",
       "      <th>122</th>\n",
       "      <td>2017-18</td>\n",
       "      <td>NL</td>\n",
       "      <td>6727.0</td>\n",
       "    </tr>\n",
       "    <tr>\n",
       "      <th>127</th>\n",
       "      <td>2017-18</td>\n",
       "      <td>SE</td>\n",
       "      <td>5806.0</td>\n",
       "    </tr>\n",
       "    <tr>\n",
       "      <th>103</th>\n",
       "      <td>2017-18</td>\n",
       "      <td>CZ</td>\n",
       "      <td>5356.0</td>\n",
       "    </tr>\n",
       "  </tbody>\n",
       "</table>\n",
       "</div>"
      ],
      "text/plain": [
       "    Academic Year Receiving Country Code  Participants\n",
       "108       2017-18                     ES       23785.0\n",
       "110       2017-18                     FR       16442.0\n",
       "115       2017-18                     IT       14945.0\n",
       "104       2017-18                     DE       14856.0\n",
       "131       2017-18                     UK       14121.0\n",
       "124       2017-18                     PL        9639.0\n",
       "125       2017-18                     PT        7798.0\n",
       "122       2017-18                     NL        6727.0\n",
       "127       2017-18                     SE        5806.0\n",
       "103       2017-18                     CZ        5356.0"
      ]
     },
     "execution_count": 50,
     "metadata": {},
     "output_type": "execute_result"
    }
   ],
   "source": [
    "df_mob.groupby(['Academic Year', 'Receiving Country Code']).Participants.sum().reset_index().sort_values(['Academic Year', 'Participants'], ascending=False).head(10)"
   ]
  },
  {
   "cell_type": "code",
   "execution_count": 51,
   "id": "7db84bbd",
   "metadata": {},
   "outputs": [
    {
     "data": {
      "text/html": [
       "<div>\n",
       "<style scoped>\n",
       "    .dataframe tbody tr th:only-of-type {\n",
       "        vertical-align: middle;\n",
       "    }\n",
       "\n",
       "    .dataframe tbody tr th {\n",
       "        vertical-align: top;\n",
       "    }\n",
       "\n",
       "    .dataframe thead th {\n",
       "        text-align: right;\n",
       "    }\n",
       "</style>\n",
       "<table border=\"1\" class=\"dataframe\">\n",
       "  <thead>\n",
       "    <tr style=\"text-align: right;\">\n",
       "      <th></th>\n",
       "      <th>Academic Year</th>\n",
       "      <th>Receiving City</th>\n",
       "      <th>Participants</th>\n",
       "    </tr>\n",
       "  </thead>\n",
       "  <tbody>\n",
       "    <tr>\n",
       "      <th>8576</th>\n",
       "      <td>2017-18</td>\n",
       "      <td>LISBOA</td>\n",
       "      <td>2099.0</td>\n",
       "    </tr>\n",
       "    <tr>\n",
       "      <th>8847</th>\n",
       "      <td>2017-18</td>\n",
       "      <td>MADRID</td>\n",
       "      <td>2048.0</td>\n",
       "    </tr>\n",
       "    <tr>\n",
       "      <th>10365</th>\n",
       "      <td>2017-18</td>\n",
       "      <td>VALENCIA</td>\n",
       "      <td>1853.0</td>\n",
       "    </tr>\n",
       "    <tr>\n",
       "      <th>9369</th>\n",
       "      <td>2017-18</td>\n",
       "      <td>PARIS</td>\n",
       "      <td>1629.0</td>\n",
       "    </tr>\n",
       "    <tr>\n",
       "      <th>9502</th>\n",
       "      <td>2017-18</td>\n",
       "      <td>Paris</td>\n",
       "      <td>1505.0</td>\n",
       "    </tr>\n",
       "    <tr>\n",
       "      <th>8900</th>\n",
       "      <td>2017-18</td>\n",
       "      <td>MILANO</td>\n",
       "      <td>1447.0</td>\n",
       "    </tr>\n",
       "    <tr>\n",
       "      <th>8950</th>\n",
       "      <td>2017-18</td>\n",
       "      <td>Madrid</td>\n",
       "      <td>1436.0</td>\n",
       "    </tr>\n",
       "    <tr>\n",
       "      <th>6806</th>\n",
       "      <td>2017-18</td>\n",
       "      <td>BARCELONA</td>\n",
       "      <td>1412.0</td>\n",
       "    </tr>\n",
       "    <tr>\n",
       "      <th>9669</th>\n",
       "      <td>2017-18</td>\n",
       "      <td>ROMA</td>\n",
       "      <td>1301.0</td>\n",
       "    </tr>\n",
       "    <tr>\n",
       "      <th>6927</th>\n",
       "      <td>2017-18</td>\n",
       "      <td>BUDAPEST</td>\n",
       "      <td>1128.0</td>\n",
       "    </tr>\n",
       "  </tbody>\n",
       "</table>\n",
       "</div>"
      ],
      "text/plain": [
       "      Academic Year Receiving City  Participants\n",
       "8576        2017-18         LISBOA        2099.0\n",
       "8847        2017-18         MADRID        2048.0\n",
       "10365       2017-18       VALENCIA        1853.0\n",
       "9369        2017-18          PARIS        1629.0\n",
       "9502        2017-18          Paris        1505.0\n",
       "8900        2017-18         MILANO        1447.0\n",
       "8950        2017-18         Madrid        1436.0\n",
       "6806        2017-18      BARCELONA        1412.0\n",
       "9669        2017-18           ROMA        1301.0\n",
       "6927        2017-18       BUDAPEST        1128.0"
      ]
     },
     "execution_count": 51,
     "metadata": {},
     "output_type": "execute_result"
    }
   ],
   "source": [
    "df_mob.groupby(['Academic Year', 'Receiving City']).Participants.sum().reset_index().sort_values(['Academic Year', 'Participants'], ascending=False).head(10)"
   ]
  },
  {
   "cell_type": "code",
   "execution_count": 52,
   "id": "a4aa3e14",
   "metadata": {},
   "outputs": [
    {
     "data": {
      "text/plain": [
       "Receiving Organization\n",
       "ALMA MATER STUDIORUM - UNIVERSITA DI BOLOGNA           2439.0\n",
       "UNIVERSITAT DE VALENCIA                                2385.0\n",
       "UNIVERSIDADE DE LISBOA                                 2226.0\n",
       "UNIVERSIDAD DE GRANADA                                 2157.0\n",
       "UNIVERSIDAD COMPLUTENSE DE MADRID                      1892.0\n",
       "UNIVERSITAT POLITECNICA DE VALENCIA                    1752.0\n",
       "UNIVERZA V LJUBLJANI                                   1679.0\n",
       "KATHOLIEKE UNIVERSITEIT LEUVEN                         1450.0\n",
       "NORGES TEKNISK-NATURVITENSKAPELIGE UNIVERSITET NTNU    1439.0\n",
       "UNIVERSITAT DE BARCELONA                               1405.0\n",
       "Name: Participants, dtype: float64"
      ]
     },
     "execution_count": 52,
     "metadata": {},
     "output_type": "execute_result"
    }
   ],
   "source": [
    "df_mob.groupby(['Receiving Organization']).Participants.sum().sort_values(ascending=False).head(10)"
   ]
  },
  {
   "cell_type": "code",
   "execution_count": 53,
   "id": "c91fc168",
   "metadata": {},
   "outputs": [
    {
     "data": {
      "text/plain": [
       "22197"
      ]
     },
     "execution_count": 53,
     "metadata": {},
     "output_type": "execute_result"
    }
   ],
   "source": [
    "#número de participantes portugueses que vão ao Erasmus.\n",
    "\n",
    "df[df['Sending Country Code']=='PT']['Participants'].value_counts().sum()"
   ]
  },
  {
   "cell_type": "code",
   "execution_count": 54,
   "id": "48a2c471",
   "metadata": {},
   "outputs": [
    {
     "data": {
      "text/plain": [
       "37296"
      ]
     },
     "execution_count": 54,
     "metadata": {},
     "output_type": "execute_result"
    }
   ],
   "source": [
    "#número de participantes estrangeiros que vem a Portugal. \n",
    "\n",
    "df[df['Receiving Country Code']=='PT']['Participants'].value_counts().sum()"
   ]
  },
  {
   "cell_type": "code",
   "execution_count": 55,
   "id": "fe502e47",
   "metadata": {},
   "outputs": [
    {
     "ename": "AttributeError",
     "evalue": "'float' object has no attribute 'lower'",
     "output_type": "error",
     "traceback": [
      "\u001b[1;31m---------------------------------------------------------------------------\u001b[0m",
      "\u001b[1;31mAttributeError\u001b[0m                            Traceback (most recent call last)",
      "\u001b[1;32m<ipython-input-55-ecd7f2dc9bd4>\u001b[0m in \u001b[0;36m<module>\u001b[1;34m\u001b[0m\n\u001b[0;32m      3\u001b[0m \u001b[1;31m#ver https://regexr.com/.\u001b[0m\u001b[1;33m\u001b[0m\u001b[1;33m\u001b[0m\u001b[1;33m\u001b[0m\u001b[0m\n\u001b[0;32m      4\u001b[0m \u001b[1;33m\u001b[0m\u001b[0m\n\u001b[1;32m----> 5\u001b[1;33m \u001b[0mdf\u001b[0m\u001b[1;33m[\u001b[0m\u001b[1;34m'Sending City'\u001b[0m\u001b[1;33m]\u001b[0m \u001b[1;33m=\u001b[0m \u001b[0mdf\u001b[0m\u001b[1;33m[\u001b[0m\u001b[1;34m'Sending City'\u001b[0m\u001b[1;33m]\u001b[0m\u001b[1;33m.\u001b[0m\u001b[0mmap\u001b[0m\u001b[1;33m(\u001b[0m\u001b[1;32mlambda\u001b[0m \u001b[0mx\u001b[0m \u001b[1;33m:\u001b[0m \u001b[1;34m\"Lisbon\"\u001b[0m \u001b[1;32mif\u001b[0m \u001b[0mre\u001b[0m\u001b[1;33m.\u001b[0m\u001b[0mmatch\u001b[0m\u001b[1;33m(\u001b[0m\u001b[1;34mr\"lisbo[an]\"\u001b[0m\u001b[1;33m,\u001b[0m \u001b[0mx\u001b[0m\u001b[1;33m.\u001b[0m\u001b[0mlower\u001b[0m\u001b[1;33m(\u001b[0m\u001b[1;33m)\u001b[0m\u001b[1;33m)\u001b[0m \u001b[1;32melse\u001b[0m \u001b[0mx\u001b[0m\u001b[1;33m)\u001b[0m\u001b[1;33m\u001b[0m\u001b[1;33m\u001b[0m\u001b[0m\n\u001b[0m",
      "\u001b[1;32m~\\anaconda3\\lib\\site-packages\\pandas\\core\\series.py\u001b[0m in \u001b[0;36mmap\u001b[1;34m(self, arg, na_action)\u001b[0m\n\u001b[0;32m   3907\u001b[0m         \u001b[0mdtype\u001b[0m\u001b[1;33m:\u001b[0m \u001b[0mobject\u001b[0m\u001b[1;33m\u001b[0m\u001b[1;33m\u001b[0m\u001b[0m\n\u001b[0;32m   3908\u001b[0m         \"\"\"\n\u001b[1;32m-> 3909\u001b[1;33m         \u001b[0mnew_values\u001b[0m \u001b[1;33m=\u001b[0m \u001b[0msuper\u001b[0m\u001b[1;33m(\u001b[0m\u001b[1;33m)\u001b[0m\u001b[1;33m.\u001b[0m\u001b[0m_map_values\u001b[0m\u001b[1;33m(\u001b[0m\u001b[0marg\u001b[0m\u001b[1;33m,\u001b[0m \u001b[0mna_action\u001b[0m\u001b[1;33m=\u001b[0m\u001b[0mna_action\u001b[0m\u001b[1;33m)\u001b[0m\u001b[1;33m\u001b[0m\u001b[1;33m\u001b[0m\u001b[0m\n\u001b[0m\u001b[0;32m   3910\u001b[0m         return self._constructor(new_values, index=self.index).__finalize__(\n\u001b[0;32m   3911\u001b[0m             \u001b[0mself\u001b[0m\u001b[1;33m,\u001b[0m \u001b[0mmethod\u001b[0m\u001b[1;33m=\u001b[0m\u001b[1;34m\"map\"\u001b[0m\u001b[1;33m\u001b[0m\u001b[1;33m\u001b[0m\u001b[0m\n",
      "\u001b[1;32m~\\anaconda3\\lib\\site-packages\\pandas\\core\\base.py\u001b[0m in \u001b[0;36m_map_values\u001b[1;34m(self, mapper, na_action)\u001b[0m\n\u001b[0;32m    935\u001b[0m \u001b[1;33m\u001b[0m\u001b[0m\n\u001b[0;32m    936\u001b[0m         \u001b[1;31m# mapper is a function\u001b[0m\u001b[1;33m\u001b[0m\u001b[1;33m\u001b[0m\u001b[1;33m\u001b[0m\u001b[0m\n\u001b[1;32m--> 937\u001b[1;33m         \u001b[0mnew_values\u001b[0m \u001b[1;33m=\u001b[0m \u001b[0mmap_f\u001b[0m\u001b[1;33m(\u001b[0m\u001b[0mvalues\u001b[0m\u001b[1;33m,\u001b[0m \u001b[0mmapper\u001b[0m\u001b[1;33m)\u001b[0m\u001b[1;33m\u001b[0m\u001b[1;33m\u001b[0m\u001b[0m\n\u001b[0m\u001b[0;32m    938\u001b[0m \u001b[1;33m\u001b[0m\u001b[0m\n\u001b[0;32m    939\u001b[0m         \u001b[1;32mreturn\u001b[0m \u001b[0mnew_values\u001b[0m\u001b[1;33m\u001b[0m\u001b[1;33m\u001b[0m\u001b[0m\n",
      "\u001b[1;32mpandas\\_libs\\lib.pyx\u001b[0m in \u001b[0;36mpandas._libs.lib.map_infer\u001b[1;34m()\u001b[0m\n",
      "\u001b[1;32m<ipython-input-55-ecd7f2dc9bd4>\u001b[0m in \u001b[0;36m<lambda>\u001b[1;34m(x)\u001b[0m\n\u001b[0;32m      3\u001b[0m \u001b[1;31m#ver https://regexr.com/.\u001b[0m\u001b[1;33m\u001b[0m\u001b[1;33m\u001b[0m\u001b[1;33m\u001b[0m\u001b[0m\n\u001b[0;32m      4\u001b[0m \u001b[1;33m\u001b[0m\u001b[0m\n\u001b[1;32m----> 5\u001b[1;33m \u001b[0mdf\u001b[0m\u001b[1;33m[\u001b[0m\u001b[1;34m'Sending City'\u001b[0m\u001b[1;33m]\u001b[0m \u001b[1;33m=\u001b[0m \u001b[0mdf\u001b[0m\u001b[1;33m[\u001b[0m\u001b[1;34m'Sending City'\u001b[0m\u001b[1;33m]\u001b[0m\u001b[1;33m.\u001b[0m\u001b[0mmap\u001b[0m\u001b[1;33m(\u001b[0m\u001b[1;32mlambda\u001b[0m \u001b[0mx\u001b[0m \u001b[1;33m:\u001b[0m \u001b[1;34m\"Lisbon\"\u001b[0m \u001b[1;32mif\u001b[0m \u001b[0mre\u001b[0m\u001b[1;33m.\u001b[0m\u001b[0mmatch\u001b[0m\u001b[1;33m(\u001b[0m\u001b[1;34mr\"lisbo[an]\"\u001b[0m\u001b[1;33m,\u001b[0m \u001b[0mx\u001b[0m\u001b[1;33m.\u001b[0m\u001b[0mlower\u001b[0m\u001b[1;33m(\u001b[0m\u001b[1;33m)\u001b[0m\u001b[1;33m)\u001b[0m \u001b[1;32melse\u001b[0m \u001b[0mx\u001b[0m\u001b[1;33m)\u001b[0m\u001b[1;33m\u001b[0m\u001b[1;33m\u001b[0m\u001b[0m\n\u001b[0m",
      "\u001b[1;31mAttributeError\u001b[0m: 'float' object has no attribute 'lower'"
     ]
    }
   ],
   "source": [
    "#re.sub(r\"padrão de regex\", \"valor para substitui\", palavra) = substitui os correspontes e tratam todos demais como nulos.\n",
    "#re.macth(r\"padrão de regex\", \"valor para substitui\", palavra) = substitui Lisbo(an) por Lisbon e traz todos lowercase.\n",
    "#ver https://regexr.com/.\n",
    "\n",
    "df['Sending City'] = df['Sending City'].map(lambda x : \"Lisbon\" if re.match(r\"lisbo[an]\", x.lower()) else x)"
   ]
  },
  {
   "cell_type": "code",
   "execution_count": null,
   "id": "4197bda9",
   "metadata": {},
   "outputs": [],
   "source": [
    "#Cidades portuguesas que mandam estudantes Erasmus. \n",
    "\n",
    "df[df['Sending Country Code']=='PT']['Sending City'].unique()"
   ]
  },
  {
   "cell_type": "code",
   "execution_count": null,
   "id": "371625f3",
   "metadata": {},
   "outputs": [],
   "source": [
    "#Cidades portuguesas que recebem estudantes eramus. \n",
    "\n",
    "df[df['Receiving Country Code']=='PT']['Receiving City'].unique()"
   ]
  },
  {
   "cell_type": "code",
   "execution_count": null,
   "id": "971a5d65",
   "metadata": {},
   "outputs": [],
   "source": [
    "#fazer total estudantes / população * 1000 habitantes"
   ]
  },
  {
   "cell_type": "code",
   "execution_count": null,
   "id": "917e0183",
   "metadata": {},
   "outputs": [],
   "source": [
    "#Filtro Portugal\n",
    "df[df['Sending Country Code']=='PT'].groupby(['Academic Year', 'Sending City']).Participants.sum().reset_index().sort_values(['Academic Year', 'Participants'], ascending=False).head(10)"
   ]
  },
  {
   "cell_type": "code",
   "execution_count": null,
   "id": "ff75f028",
   "metadata": {},
   "outputs": [],
   "source": [
    "df[df['Sending Country Code']=='PT'].groupby(['Academic Year', 'Sending City', 'Sending Organization']).Participants.sum().reset_index().sort_values(['Academic Year', 'Participants'], ascending=False).head()"
   ]
  },
  {
   "cell_type": "code",
   "execution_count": null,
   "id": "4c2f8177",
   "metadata": {},
   "outputs": [],
   "source": [
    "df[df['Sending Country Code']=='PT'].groupby(['Sending City', 'Sending Organization']).Participants.sum().reset_index().sort_values(['Participants'], ascending=False).head()"
   ]
  },
  {
   "cell_type": "code",
   "execution_count": null,
   "id": "31b089b9",
   "metadata": {},
   "outputs": [],
   "source": [
    "df[df['Receiving Country Code']=='PT'].groupby(['Receiving City']).Participants.sum().reset_index().sort_values(['Participants'], ascending=False).head(10)"
   ]
  },
  {
   "cell_type": "code",
   "execution_count": null,
   "id": "f50d790b",
   "metadata": {},
   "outputs": [],
   "source": [
    "df[df['Receiving Country Code']=='PT'].groupby(['Receiving City', 'Receiving Organization']).Participants.sum().reset_index().sort_values(['Participants'], ascending=False).head(10)"
   ]
  },
  {
   "cell_type": "code",
   "execution_count": null,
   "id": "027d2013",
   "metadata": {},
   "outputs": [],
   "source": [
    "df[df['Sending Country Code']=='PT'].groupby(['Academic Year','Sending City', 'Sending Organization']).Participants.sum().reset_index().sort_values(['Academic Year', 'Participants'], ascending=False).head(10)"
   ]
  },
  {
   "cell_type": "code",
   "execution_count": null,
   "id": "3af8582d",
   "metadata": {},
   "outputs": [],
   "source": [
    "df['Sending City'].fillna('naodefinido', inplace=True)"
   ]
  },
  {
   "cell_type": "code",
   "execution_count": null,
   "id": "af069106",
   "metadata": {},
   "outputs": [],
   "source": [
    "df['Sending City'] = df['Sending City'].map(lambda x : x.lower())"
   ]
  },
  {
   "cell_type": "code",
   "execution_count": null,
   "id": "b70c3323",
   "metadata": {},
   "outputs": [],
   "source": [
    "df[df['Receiving Country Code']=='PT'].groupby(['Academic Year', 'Receiving City']).Participants.sum().reset_index().sort_values(['Academic Year', 'Participants'], ascending=False).head(10)"
   ]
  },
  {
   "cell_type": "code",
   "execution_count": null,
   "id": "f8ce6aef",
   "metadata": {},
   "outputs": [],
   "source": [
    "df_pt_ed_level = df[df['Receiving Country Code']=='PT'].groupby(['Receiving City', 'Education Level']).Participants.sum().reset_index().sort_values(['Participants'], ascending=False).head(10)\n",
    "df_pt_ed_level"
   ]
  },
  {
   "cell_type": "code",
   "execution_count": null,
   "id": "b7920402",
   "metadata": {},
   "outputs": [],
   "source": [
    "df.info()"
   ]
  },
  {
   "cell_type": "code",
   "execution_count": null,
   "id": "40b9e1e3",
   "metadata": {
    "scrolled": false
   },
   "outputs": [],
   "source": [
    "df.value_counts('Sending Country Code').head(10)"
   ]
  },
  {
   "cell_type": "code",
   "execution_count": null,
   "id": "697a5f8b",
   "metadata": {},
   "outputs": [],
   "source": [
    "df.value_counts('Receiving Country Code').head(10)"
   ]
  },
  {
   "cell_type": "code",
   "execution_count": null,
   "id": "ca4b6c9c",
   "metadata": {
    "scrolled": true
   },
   "outputs": [],
   "source": [
    "df.value_counts('Participant Nationality').head(10)"
   ]
  },
  {
   "cell_type": "code",
   "execution_count": null,
   "id": "993a42e2",
   "metadata": {
    "scrolled": true
   },
   "outputs": [],
   "source": [
    "df.value_counts('Academic Year').head(10)"
   ]
  },
  {
   "cell_type": "code",
   "execution_count": null,
   "id": "13bf96ca",
   "metadata": {},
   "outputs": [],
   "source": [
    "df.value_counts('Participant Age').head(10)"
   ]
  },
  {
   "cell_type": "code",
   "execution_count": null,
   "id": "e55d43c2",
   "metadata": {},
   "outputs": [],
   "source": [
    "df.value_counts('Field of Education').head(10)"
   ]
  },
  {
   "cell_type": "code",
   "execution_count": null,
   "id": "25a8f70c",
   "metadata": {},
   "outputs": [],
   "source": [
    "df['Field of Education'].replace('???', np.nan, inplace= True)"
   ]
  },
  {
   "cell_type": "code",
   "execution_count": null,
   "id": "1b8c4146",
   "metadata": {},
   "outputs": [],
   "source": [
    "df.value_counts('Field of Education')"
   ]
  },
  {
   "cell_type": "code",
   "execution_count": null,
   "id": "a9de94b9",
   "metadata": {},
   "outputs": [],
   "source": [
    "df.value_counts('Education Level')"
   ]
  },
  {
   "cell_type": "code",
   "execution_count": null,
   "id": "295402fc",
   "metadata": {},
   "outputs": [],
   "source": [
    "df['Education Level'].replace('??? - ???', np.nan, inplace= True)"
   ]
  },
  {
   "cell_type": "code",
   "execution_count": null,
   "id": "5854251d",
   "metadata": {},
   "outputs": [],
   "source": [
    "df.value_counts('Education Level')"
   ]
  },
  {
   "cell_type": "code",
   "execution_count": null,
   "id": "4e8e30b4",
   "metadata": {
    "scrolled": false
   },
   "outputs": [],
   "source": [
    "df.head()"
   ]
  },
  {
   "cell_type": "code",
   "execution_count": null,
   "id": "2d2fb123",
   "metadata": {},
   "outputs": [],
   "source": [
    "df[('Receiving City'='Braga')]"
   ]
  },
  {
   "cell_type": "code",
   "execution_count": null,
   "id": "81c1054d",
   "metadata": {},
   "outputs": [],
   "source": [
    "df.tail(50)"
   ]
  },
  {
   "cell_type": "code",
   "execution_count": null,
   "id": "340984fe",
   "metadata": {},
   "outputs": [],
   "source": [
    "df.info()"
   ]
  },
  {
   "cell_type": "code",
   "execution_count": null,
   "id": "50f44659",
   "metadata": {
    "scrolled": true
   },
   "outputs": [],
   "source": [
    "df.groupby('Academic Year')['Project Reference'].count()"
   ]
  },
  {
   "cell_type": "code",
   "execution_count": null,
   "id": "dc956682",
   "metadata": {},
   "outputs": [],
   "source": [
    "df = df.drop(df.loc[(df['Academic Year'] =='2013-14')].index)\n",
    "df.head()"
   ]
  },
  {
   "cell_type": "code",
   "execution_count": null,
   "id": "42caa260",
   "metadata": {},
   "outputs": [],
   "source": [
    "df_Special_Needs = df.groupby(['Academic Year', 'Special Needs'])['Project Reference'].count().unstack()\n",
    "df_Special_Needs"
   ]
  },
  {
   "cell_type": "code",
   "execution_count": null,
   "id": "7f981730",
   "metadata": {},
   "outputs": [],
   "source": [
    "df_Special_Needs['Percentual'] = df_Special_Needs.Yes/(df_Special_Needs.No+df_Special_Needs.Yes)\n",
    "df_Special_Needs"
   ]
  },
  {
   "cell_type": "code",
   "execution_count": null,
   "id": "ec59ba39",
   "metadata": {},
   "outputs": [],
   "source": [
    "df_Special_Needs.to_csv('df_Special_Needs.csv')"
   ]
  },
  {
   "cell_type": "code",
   "execution_count": null,
   "id": "4540e34c",
   "metadata": {},
   "outputs": [],
   "source": [
    "df_Special_Needs.plot()"
   ]
  },
  {
   "cell_type": "code",
   "execution_count": null,
   "id": "7d26590c",
   "metadata": {},
   "outputs": [],
   "source": [
    "df_Special_Needs.No.plot()"
   ]
  },
  {
   "cell_type": "code",
   "execution_count": null,
   "id": "c588026d",
   "metadata": {},
   "outputs": [],
   "source": [
    "df_Special_Needs.Yes.plot()"
   ]
  },
  {
   "cell_type": "code",
   "execution_count": null,
   "id": "b4f5163a",
   "metadata": {},
   "outputs": [],
   "source": [
    "df_Special_Needs.Percentual.plot()"
   ]
  },
  {
   "cell_type": "code",
   "execution_count": null,
   "id": "b8e5aae3",
   "metadata": {},
   "outputs": [],
   "source": [
    "df['Participant Nationality'].value_counts()"
   ]
  },
  {
   "cell_type": "code",
   "execution_count": null,
   "id": "5a7a382f",
   "metadata": {
    "scrolled": true
   },
   "outputs": [],
   "source": [
    "df['Participant Gender'].value_counts()"
   ]
  },
  {
   "cell_type": "code",
   "execution_count": null,
   "id": "3f562f54",
   "metadata": {
    "scrolled": true
   },
   "outputs": [],
   "source": [
    "df_Gender_Year = df.groupby(['Participant Gender', 'Academic Year'])['Project Reference'].count().unstack()\n",
    "df_Gender_Year"
   ]
  },
  {
   "cell_type": "code",
   "execution_count": null,
   "id": "2e640956",
   "metadata": {},
   "outputs": [],
   "source": [
    "df['Participant Age'].unique()"
   ]
  },
  {
   "cell_type": "code",
   "execution_count": null,
   "id": "645b1294",
   "metadata": {},
   "outputs": [],
   "source": [
    "df['Participant Age'].replace('-1', '1', inplace=True)"
   ]
  },
  {
   "cell_type": "code",
   "execution_count": null,
   "id": "d9d46048",
   "metadata": {},
   "outputs": [],
   "source": [
    "df['Participant Age'].replace('-2', '2', inplace=True)"
   ]
  },
  {
   "cell_type": "code",
   "execution_count": null,
   "id": "f9ef78d3",
   "metadata": {},
   "outputs": [],
   "source": [
    "df['Participant Age'].replace('-', '0', inplace=True)"
   ]
  },
  {
   "cell_type": "code",
   "execution_count": null,
   "id": "502bc4d8",
   "metadata": {},
   "outputs": [],
   "source": [
    "df['Participant Age'].unique()"
   ]
  },
  {
   "cell_type": "code",
   "execution_count": null,
   "id": "d9d0ad3f",
   "metadata": {},
   "outputs": [],
   "source": [
    "#df['Participant Age'].max()"
   ]
  },
  {
   "cell_type": "code",
   "execution_count": null,
   "id": "4113999c",
   "metadata": {
    "scrolled": true
   },
   "outputs": [],
   "source": [
    "df.groupby(['Academic Year','Participant Gender']).agg('mean').reset_index()"
   ]
  },
  {
   "cell_type": "code",
   "execution_count": null,
   "id": "1b4b9e14",
   "metadata": {},
   "outputs": [],
   "source": [
    "df_Academic_Year_Gender_Age = df.groupby(['Academic Year','Participant Gender']).agg('mean')['Participant Age']\n",
    "df_Academic_Year_Gender_Age"
   ]
  },
  {
   "cell_type": "code",
   "execution_count": null,
   "id": "20b87822",
   "metadata": {
    "scrolled": true
   },
   "outputs": [],
   "source": [
    "df_Academic_Year_Gender = df.groupby(['Academic Year','Participant Gender']).count()['Project Reference']\n",
    "df_Academic_Year_Gender"
   ]
  },
  {
   "cell_type": "code",
   "execution_count": null,
   "id": "b2735c89",
   "metadata": {},
   "outputs": [],
   "source": [
    "df_Academic_Year_Gender.to_csv('Academic_Year_Gender.csv')"
   ]
  },
  {
   "cell_type": "code",
   "execution_count": null,
   "id": "ef91980b",
   "metadata": {
    "scrolled": true
   },
   "outputs": [],
   "source": [
    "df_Receinving_Country = df['Receiving Country Code'].value_counts()\n",
    "df_Receinving_Country"
   ]
  },
  {
   "cell_type": "code",
   "execution_count": null,
   "id": "31b6552d",
   "metadata": {},
   "outputs": [],
   "source": [
    "df_Receinving_Country.to_csv('Receinving_Country.csv')"
   ]
  },
  {
   "cell_type": "code",
   "execution_count": null,
   "id": "035e3331",
   "metadata": {},
   "outputs": [],
   "source": [
    "df_Sending_Country = df['Sending Country Code'].value_counts()\n",
    "df_Sending_Country"
   ]
  },
  {
   "cell_type": "code",
   "execution_count": null,
   "id": "04d80240",
   "metadata": {},
   "outputs": [],
   "source": [
    "df_Sending_Country.to_csv('Sending_Country.csv')"
   ]
  },
  {
   "cell_type": "code",
   "execution_count": null,
   "id": "97b7293c",
   "metadata": {},
   "outputs": [],
   "source": []
  },
  {
   "cell_type": "code",
   "execution_count": null,
   "id": "87b81171",
   "metadata": {},
   "outputs": [],
   "source": []
  }
 ],
 "metadata": {
  "kernelspec": {
   "display_name": "Python 3",
   "language": "python",
   "name": "python3"
  },
  "language_info": {
   "codemirror_mode": {
    "name": "ipython",
    "version": 3
   },
   "file_extension": ".py",
   "mimetype": "text/x-python",
   "name": "python",
   "nbconvert_exporter": "python",
   "pygments_lexer": "ipython3",
   "version": "3.8.8"
  }
 },
 "nbformat": 4,
 "nbformat_minor": 5
}
