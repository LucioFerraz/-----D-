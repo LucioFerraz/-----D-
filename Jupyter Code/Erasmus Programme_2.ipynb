{
 "cells": [
  {
   "cell_type": "code",
   "execution_count": 1,
   "id": "48167c6e",
   "metadata": {},
   "outputs": [],
   "source": [
    "#Import Libs. Dados relativos ao período de 01.01.2014 - 31.12.2019\n",
    "\n",
    "import pandas as pd\n",
    "import numpy as np\n",
    "import seaborn as sns\n",
    "import matplotlib.pyplot as plt\n",
    "import re\n",
    "%matplotlib inline"
   ]
  },
  {
   "cell_type": "code",
   "execution_count": 2,
   "id": "28239377",
   "metadata": {},
   "outputs": [
    {
     "data": {
      "text/plain": [
       "['Finalised_mobilities_2014-2019.csv',\n",
       " 'Finalised_mobilities_2014.csv',\n",
       " 'Finalised_mobilities_2015.csv',\n",
       " 'Finalised_mobilities_2016.csv',\n",
       " 'Finalised_mobilities_2017.csv',\n",
       " 'Finalised_mobilities_2018.csv',\n",
       " 'Finalised_mobilities_2019.csv']"
      ]
     },
     "execution_count": 2,
     "metadata": {},
     "output_type": "execute_result"
    }
   ],
   "source": [
    "#Criação de uma lista co todos arquivos CSVs, uma vez que haviam vários datasets a serem compilados.\n",
    "\n",
    "erasmus_list = ['Finalised_mobilities_2014-2019.csv','Finalised_mobilities_2014.csv', 'Finalised_mobilities_2015.csv', 'Finalised_mobilities_2016.csv', 'Finalised_mobilities_2017.csv', 'Finalised_mobilities_2018.csv', 'Finalised_mobilities_2019.csv']\n",
    "erasmus_list"
   ]
  },
  {
   "cell_type": "code",
   "execution_count": 3,
   "id": "7f7936a4",
   "metadata": {},
   "outputs": [],
   "source": [
    "# Criação de uma DataFrame com base nas listas compiladas. \n",
    "\n",
    "df = pd.DataFrame()\n",
    "\n",
    "for erasmus in erasmus_list:\n",
    "    x = pd.read_csv(erasmus, sep=';', low_memory=False)\n",
    "    df = df.append(x)"
   ]
  },
  {
   "cell_type": "code",
   "execution_count": 4,
   "id": "6bc00ad0",
   "metadata": {},
   "outputs": [
    {
     "data": {
      "text/html": [
       "<div>\n",
       "<style scoped>\n",
       "    .dataframe tbody tr th:only-of-type {\n",
       "        vertical-align: middle;\n",
       "    }\n",
       "\n",
       "    .dataframe tbody tr th {\n",
       "        vertical-align: top;\n",
       "    }\n",
       "\n",
       "    .dataframe thead th {\n",
       "        text-align: right;\n",
       "    }\n",
       "</style>\n",
       "<table border=\"1\" class=\"dataframe\">\n",
       "  <thead>\n",
       "    <tr style=\"text-align: right;\">\n",
       "      <th></th>\n",
       "      <th>Project Reference</th>\n",
       "      <th>Academic Year</th>\n",
       "      <th>Mobility Start Month</th>\n",
       "      <th>Mobility End Month</th>\n",
       "      <th>Mobility Duration</th>\n",
       "      <th>Activity (mob)</th>\n",
       "      <th>Field of Education</th>\n",
       "      <th>Participant Nationality</th>\n",
       "      <th>Education Level</th>\n",
       "      <th>Participant Gender</th>\n",
       "      <th>...</th>\n",
       "      <th>Participant Age</th>\n",
       "      <th>Sending Country Code</th>\n",
       "      <th>Sending City</th>\n",
       "      <th>Sending Organization</th>\n",
       "      <th>Sending Organisation Erasmus Code</th>\n",
       "      <th>Receiving Country Code</th>\n",
       "      <th>Receiving City</th>\n",
       "      <th>Receiving Organization</th>\n",
       "      <th>Receiving Organisation Erasmus Code</th>\n",
       "      <th>Participants</th>\n",
       "    </tr>\n",
       "  </thead>\n",
       "  <tbody>\n",
       "    <tr>\n",
       "      <th>0</th>\n",
       "      <td>2014-1-AT02-KA347-000139</td>\n",
       "      <td>2014-2015</td>\n",
       "      <td>2014-11</td>\n",
       "      <td>2014-11</td>\n",
       "      <td>1.0</td>\n",
       "      <td>National youth meetings</td>\n",
       "      <td>? Unknown ?</td>\n",
       "      <td>AT</td>\n",
       "      <td>??? - ? Unknown ?</td>\n",
       "      <td>Female</td>\n",
       "      <td>...</td>\n",
       "      <td>13</td>\n",
       "      <td>AT</td>\n",
       "      <td>Dornbirn</td>\n",
       "      <td>bOJA - Bundesweites Netzwerk Offene Jugendarbeit</td>\n",
       "      <td>-</td>\n",
       "      <td>AT</td>\n",
       "      <td>Dornbirn</td>\n",
       "      <td>bOJA - Bundesweites Netzwerk Offene Jugendarbeit</td>\n",
       "      <td>-</td>\n",
       "      <td>2</td>\n",
       "    </tr>\n",
       "    <tr>\n",
       "      <th>1</th>\n",
       "      <td>2014-1-AT02-KA347-000139</td>\n",
       "      <td>2014-2015</td>\n",
       "      <td>2014-11</td>\n",
       "      <td>2014-11</td>\n",
       "      <td>1.0</td>\n",
       "      <td>National youth meetings</td>\n",
       "      <td>? Unknown ?</td>\n",
       "      <td>AT</td>\n",
       "      <td>??? - ? Unknown ?</td>\n",
       "      <td>Female</td>\n",
       "      <td>...</td>\n",
       "      <td>14</td>\n",
       "      <td>AT</td>\n",
       "      <td>Dornbirn</td>\n",
       "      <td>bOJA - Bundesweites Netzwerk Offene Jugendarbeit</td>\n",
       "      <td>-</td>\n",
       "      <td>AT</td>\n",
       "      <td>Dornbirn</td>\n",
       "      <td>bOJA - Bundesweites Netzwerk Offene Jugendarbeit</td>\n",
       "      <td>-</td>\n",
       "      <td>3</td>\n",
       "    </tr>\n",
       "  </tbody>\n",
       "</table>\n",
       "<p>2 rows × 24 columns</p>\n",
       "</div>"
      ],
      "text/plain": [
       "          Project Reference Academic Year Mobility Start Month  \\\n",
       "0  2014-1-AT02-KA347-000139     2014-2015              2014-11   \n",
       "1  2014-1-AT02-KA347-000139     2014-2015              2014-11   \n",
       "\n",
       "  Mobility End Month  Mobility Duration           Activity (mob)  \\\n",
       "0            2014-11                1.0  National youth meetings   \n",
       "1            2014-11                1.0  National youth meetings   \n",
       "\n",
       "  Field of Education Participant Nationality    Education Level  \\\n",
       "0        ? Unknown ?                      AT  ??? - ? Unknown ?   \n",
       "1        ? Unknown ?                      AT  ??? - ? Unknown ?   \n",
       "\n",
       "  Participant Gender  ... Participant Age Sending Country Code Sending City  \\\n",
       "0             Female  ...              13                   AT     Dornbirn   \n",
       "1             Female  ...              14                   AT     Dornbirn   \n",
       "\n",
       "                               Sending Organization  \\\n",
       "0  bOJA - Bundesweites Netzwerk Offene Jugendarbeit   \n",
       "1  bOJA - Bundesweites Netzwerk Offene Jugendarbeit   \n",
       "\n",
       "  Sending Organisation Erasmus Code Receiving Country Code Receiving City  \\\n",
       "0                                 -                     AT       Dornbirn   \n",
       "1                                 -                     AT       Dornbirn   \n",
       "\n",
       "                             Receiving Organization  \\\n",
       "0  bOJA - Bundesweites Netzwerk Offene Jugendarbeit   \n",
       "1  bOJA - Bundesweites Netzwerk Offene Jugendarbeit   \n",
       "\n",
       "  Receiving Organisation Erasmus Code Participants  \n",
       "0                                   -            2  \n",
       "1                                   -            3  \n",
       "\n",
       "[2 rows x 24 columns]"
      ]
     },
     "execution_count": 4,
     "metadata": {},
     "output_type": "execute_result"
    }
   ],
   "source": [
    "# Visualização dos do DataFrame.\n",
    "\n",
    "pd.options.display.max_columns = 21\n",
    "df.head(2)"
   ]
  },
  {
   "cell_type": "code",
   "execution_count": 5,
   "id": "43ea61f6",
   "metadata": {},
   "outputs": [
    {
     "name": "stdout",
     "output_type": "stream",
     "text": [
      "<class 'pandas.core.frame.DataFrame'>\n",
      "Int64Index: 3626893 entries, 0 to 736433\n",
      "Data columns (total 24 columns):\n",
      " #   Column                               Dtype  \n",
      "---  ------                               -----  \n",
      " 0   Project Reference                    object \n",
      " 1   Academic Year                        object \n",
      " 2   Mobility Start Month                 object \n",
      " 3   Mobility End Month                   object \n",
      " 4   Mobility Duration                    float64\n",
      " 5   Activity (mob)                       object \n",
      " 6   Field of Education                   object \n",
      " 7   Participant Nationality              object \n",
      " 8   Education Level                      object \n",
      " 9   Participant Gender                   object \n",
      " 10  Participant Profile                  object \n",
      " 11  Special Needs                        object \n",
      " 12  Fewer Opportunities                  object \n",
      " 13  GroupLeader                          object \n",
      " 14  Participant Age                      object \n",
      " 15  Sending Country Code                 object \n",
      " 16  Sending City                         object \n",
      " 17  Sending Organization                 object \n",
      " 18  Sending Organisation Erasmus Code    object \n",
      " 19  Receiving Country Code               object \n",
      " 20  Receiving City                       object \n",
      " 21  Receiving Organization               object \n",
      " 22  Receiving Organisation Erasmus Code  object \n",
      " 23  Participants                         int64  \n",
      "dtypes: float64(1), int64(1), object(22)\n",
      "memory usage: 691.8+ MB\n"
     ]
    }
   ],
   "source": [
    "df.info()"
   ]
  },
  {
   "cell_type": "code",
   "execution_count": 6,
   "id": "afda2a75",
   "metadata": {},
   "outputs": [
    {
     "data": {
      "text/plain": [
       "Index(['Project Reference', 'Academic Year', 'Mobility Start Month',\n",
       "       'Mobility End Month', 'Mobility Duration', 'Activity (mob)',\n",
       "       'Field of Education', 'Participant Nationality', 'Education Level',\n",
       "       'Participant Gender', 'Participant Profile', 'Special Needs',\n",
       "       'Fewer Opportunities', 'GroupLeader', 'Participant Age',\n",
       "       'Sending Country Code', 'Sending City', 'Sending Organization',\n",
       "       'Sending Organisation Erasmus Code', 'Receiving Country Code',\n",
       "       'Receiving City', 'Receiving Organization',\n",
       "       'Receiving Organisation Erasmus Code', 'Participants'],\n",
       "      dtype='object')"
      ]
     },
     "execution_count": 6,
     "metadata": {},
     "output_type": "execute_result"
    }
   ],
   "source": [
    "# Trouxe as colunas para verificar quais são aquelas que em interessam para fins de responder minhas questões.\n",
    "df.columns"
   ]
  },
  {
   "cell_type": "code",
   "execution_count": 7,
   "id": "48351df3",
   "metadata": {},
   "outputs": [],
   "source": [
    "# ano com número pouco significativo, drop.\n",
    "df = df.drop(df.loc[(df['Academic Year'] =='2013-14')].index)"
   ]
  },
  {
   "cell_type": "code",
   "execution_count": 8,
   "id": "b88e7bbc",
   "metadata": {},
   "outputs": [
    {
     "data": {
      "text/plain": [
       "4201707"
      ]
     },
     "execution_count": 8,
     "metadata": {},
     "output_type": "execute_result"
    }
   ],
   "source": [
    "df.Participants.sum()"
   ]
  },
  {
   "cell_type": "code",
   "execution_count": 9,
   "id": "533199e5",
   "metadata": {},
   "outputs": [],
   "source": [
    "#aplicação função lambda para alterar e padronizar os anos académicos. \n",
    "\n",
    "df['Academic Year'] = df['Academic Year'].map(lambda x : \"2014-2015\" if re.match(r\"2014\", x.lower()) else x)"
   ]
  },
  {
   "cell_type": "code",
   "execution_count": 10,
   "id": "43a61a07",
   "metadata": {},
   "outputs": [],
   "source": [
    "df['Academic Year'] = df['Academic Year'].map(lambda x : \"2015-2016\" if re.match(r\"2015\", x.lower()) else x)"
   ]
  },
  {
   "cell_type": "code",
   "execution_count": 11,
   "id": "c22d9bc4",
   "metadata": {},
   "outputs": [],
   "source": [
    "df['Academic Year'] = df['Academic Year'].map(lambda x : \"2016-2017\" if re.match(r\"2016\", x.lower()) else x)"
   ]
  },
  {
   "cell_type": "code",
   "execution_count": 12,
   "id": "bd787ad9",
   "metadata": {},
   "outputs": [],
   "source": [
    "df['Academic Year'] = df['Academic Year'].map(lambda x : \"2017-2018\" if re.match(r\"2017\", x.lower()) else x)"
   ]
  },
  {
   "cell_type": "code",
   "execution_count": 13,
   "id": "2fe4c548",
   "metadata": {},
   "outputs": [],
   "source": [
    "df['Academic Year'] = df['Academic Year'].map(lambda x : \"2018-2019\" if re.match(r\"2018-19\", x.lower()) else x)"
   ]
  },
  {
   "cell_type": "code",
   "execution_count": 14,
   "id": "08783809",
   "metadata": {
    "scrolled": false
   },
   "outputs": [
    {
     "data": {
      "text/plain": [
       "Academic Year\n",
       "2014-2015    267188\n",
       "2015-2016    676219\n",
       "2016-2017    738640\n",
       "2017-2018    784199\n",
       "2018-2019    841335\n",
       "2019-2020    894126\n",
       "Name: Participants, dtype: int64"
      ]
     },
     "execution_count": 14,
     "metadata": {},
     "output_type": "execute_result"
    }
   ],
   "source": [
    "df.groupby('Academic Year').Participants.sum()"
   ]
  },
  {
   "cell_type": "code",
   "execution_count": 15,
   "id": "5866dd9f",
   "metadata": {},
   "outputs": [
    {
     "data": {
      "text/plain": [
       "2019-2020    0.212146\n",
       "2018-2019    0.199613\n",
       "2017-2018    0.186553\n",
       "2016-2017    0.175434\n",
       "2015-2016    0.159977\n",
       "2014-2015    0.066277\n",
       "Name: Academic Year, dtype: float64"
      ]
     },
     "execution_count": 15,
     "metadata": {},
     "output_type": "execute_result"
    }
   ],
   "source": [
    "df['Academic Year'].value_counts(normalize=True)"
   ]
  },
  {
   "cell_type": "code",
   "execution_count": 16,
   "id": "3c3a926b",
   "metadata": {},
   "outputs": [],
   "source": [
    "df.to_csv('Erasmus_2014-2019.csv')"
   ]
  },
  {
   "cell_type": "markdown",
   "id": "6ad35462",
   "metadata": {},
   "source": [
    "##### Pergunta 1: Número total de participantes no Erasmus+ Programme entre 2014 e 2018? ######\n",
    "   <p> Foram ao todo <b>4.201.707 participantes </b> entre todos os projetos pertecentes ao Erasmus+ Programme."
   ]
  },
  {
   "cell_type": "code",
   "execution_count": 17,
   "id": "bc4712a6",
   "metadata": {},
   "outputs": [
    {
     "data": {
      "text/plain": [
       "<AxesSubplot:xlabel='Academic Year'>"
      ]
     },
     "execution_count": 17,
     "metadata": {},
     "output_type": "execute_result"
    },
    {
     "data": {
      "image/png": "[encoded data removed]",
      "text/plain": [
       "<Figure size 432x288 with 1 Axes>"
      ]
     },
     "metadata": {
      "needs_background": "light"
     },
     "output_type": "display_data"
    }
   ],
   "source": [
    "df.groupby('Academic Year').Participants.sum().plot()"
   ]
  },
  {
   "cell_type": "code",
   "execution_count": 18,
   "id": "7e16fbfb",
   "metadata": {
    "scrolled": true
   },
   "outputs": [
    {
     "data": {
      "text/plain": [
       "<AxesSubplot:xlabel='Academic Year'>"
      ]
     },
     "execution_count": 18,
     "metadata": {},
     "output_type": "execute_result"
    },
    {
     "data": {
      "image/png": "[encoded data removed]",
      "text/plain": [
       "<Figure size 432x288 with 1 Axes>"
      ]
     },
     "metadata": {
      "needs_background": "light"
     },
     "output_type": "display_data"
    }
   ],
   "source": [
    "df.groupby('Academic Year').Participants.sum().plot(kind='bar')"
   ]
  },
  {
   "cell_type": "markdown",
   "id": "91a02aa4",
   "metadata": {},
   "source": [
    "### Número de participantes por gênero / ano acadêmico."
   ]
  },
  {
   "cell_type": "code",
   "execution_count": 19,
   "id": "f06db5a3",
   "metadata": {
    "scrolled": true
   },
   "outputs": [
    {
     "data": {
      "text/html": [
       "<div>\n",
       "<style scoped>\n",
       "    .dataframe tbody tr th:only-of-type {\n",
       "        vertical-align: middle;\n",
       "    }\n",
       "\n",
       "    .dataframe tbody tr th {\n",
       "        vertical-align: top;\n",
       "    }\n",
       "\n",
       "    .dataframe thead th {\n",
       "        text-align: right;\n",
       "    }\n",
       "</style>\n",
       "<table border=\"1\" class=\"dataframe\">\n",
       "  <thead>\n",
       "    <tr style=\"text-align: right;\">\n",
       "      <th>Participant Gender</th>\n",
       "      <th>Female</th>\n",
       "      <th>Male</th>\n",
       "      <th>Undefined</th>\n",
       "    </tr>\n",
       "    <tr>\n",
       "      <th>Academic Year</th>\n",
       "      <th></th>\n",
       "      <th></th>\n",
       "      <th></th>\n",
       "    </tr>\n",
       "  </thead>\n",
       "  <tbody>\n",
       "    <tr>\n",
       "      <th>2014-2015</th>\n",
       "      <td>157709</td>\n",
       "      <td>109402</td>\n",
       "      <td>77</td>\n",
       "    </tr>\n",
       "    <tr>\n",
       "      <th>2015-2016</th>\n",
       "      <td>394866</td>\n",
       "      <td>280928</td>\n",
       "      <td>425</td>\n",
       "    </tr>\n",
       "    <tr>\n",
       "      <th>2016-2017</th>\n",
       "      <td>427268</td>\n",
       "      <td>310488</td>\n",
       "      <td>884</td>\n",
       "    </tr>\n",
       "    <tr>\n",
       "      <th>2017-2018</th>\n",
       "      <td>453410</td>\n",
       "      <td>330023</td>\n",
       "      <td>766</td>\n",
       "    </tr>\n",
       "    <tr>\n",
       "      <th>2018-2019</th>\n",
       "      <td>490134</td>\n",
       "      <td>349728</td>\n",
       "      <td>1473</td>\n",
       "    </tr>\n",
       "    <tr>\n",
       "      <th>2019-2020</th>\n",
       "      <td>522296</td>\n",
       "      <td>370198</td>\n",
       "      <td>1632</td>\n",
       "    </tr>\n",
       "  </tbody>\n",
       "</table>\n",
       "</div>"
      ],
      "text/plain": [
       "Participant Gender  Female    Male  Undefined\n",
       "Academic Year                                \n",
       "2014-2015           157709  109402         77\n",
       "2015-2016           394866  280928        425\n",
       "2016-2017           427268  310488        884\n",
       "2017-2018           453410  330023        766\n",
       "2018-2019           490134  349728       1473\n",
       "2019-2020           522296  370198       1632"
      ]
     },
     "execution_count": 19,
     "metadata": {},
     "output_type": "execute_result"
    }
   ],
   "source": [
    "df.groupby(['Academic Year', 'Participant Gender']).Participants.sum().unstack()"
   ]
  },
  {
   "cell_type": "code",
   "execution_count": 20,
   "id": "68ab0f16",
   "metadata": {},
   "outputs": [
    {
     "data": {
      "text/plain": [
       "Female       0.582710\n",
       "Male         0.416124\n",
       "Undefined    0.001166\n",
       "Name: Participant Gender, dtype: float64"
      ]
     },
     "execution_count": 20,
     "metadata": {},
     "output_type": "execute_result"
    }
   ],
   "source": [
    "df['Participant Gender'].value_counts(normalize=True)"
   ]
  },
  {
   "cell_type": "code",
   "execution_count": 21,
   "id": "d25f748a",
   "metadata": {
    "scrolled": true
   },
   "outputs": [
    {
     "data": {
      "text/plain": [
       "<AxesSubplot:xlabel='Academic Year'>"
      ]
     },
     "execution_count": 21,
     "metadata": {},
     "output_type": "execute_result"
    },
    {
     "data": {
      "image/png": "[encoded data removed]",
      "text/plain": [
       "<Figure size 432x288 with 1 Axes>"
      ]
     },
     "metadata": {
      "needs_background": "light"
     },
     "output_type": "display_data"
    }
   ],
   "source": [
    "df.groupby(['Academic Year', 'Participant Gender']).Participants.sum().unstack().plot()"
   ]
  },
  {
   "cell_type": "code",
   "execution_count": 22,
   "id": "a778a75f",
   "metadata": {},
   "outputs": [
    {
     "data": {
      "text/plain": [
       "<AxesSubplot:xlabel='Academic Year'>"
      ]
     },
     "execution_count": 22,
     "metadata": {},
     "output_type": "execute_result"
    },
    {
     "data": {
      "image/png": "[encoded data removed]",
      "text/plain": [
       "<Figure size 432x288 with 1 Axes>"
      ]
     },
     "metadata": {
      "needs_background": "light"
     },
     "output_type": "display_data"
    }
   ],
   "source": [
    "df.groupby(['Academic Year', 'Participant Gender']).Participants.sum().unstack().Undefined.plot()"
   ]
  },
  {
   "cell_type": "markdown",
   "id": "a8346678",
   "metadata": {},
   "source": [
    "### Número de participantes com necessidades especiais / ano acadêmico."
   ]
  },
  {
   "cell_type": "code",
   "execution_count": 23,
   "id": "4d7537c4",
   "metadata": {},
   "outputs": [
    {
     "data": {
      "text/html": [
       "<div>\n",
       "<style scoped>\n",
       "    .dataframe tbody tr th:only-of-type {\n",
       "        vertical-align: middle;\n",
       "    }\n",
       "\n",
       "    .dataframe tbody tr th {\n",
       "        vertical-align: top;\n",
       "    }\n",
       "\n",
       "    .dataframe thead th {\n",
       "        text-align: right;\n",
       "    }\n",
       "</style>\n",
       "<table border=\"1\" class=\"dataframe\">\n",
       "  <thead>\n",
       "    <tr style=\"text-align: right;\">\n",
       "      <th>Special Needs</th>\n",
       "      <th>No</th>\n",
       "      <th>Yes</th>\n",
       "    </tr>\n",
       "    <tr>\n",
       "      <th>Academic Year</th>\n",
       "      <th></th>\n",
       "      <th></th>\n",
       "    </tr>\n",
       "  </thead>\n",
       "  <tbody>\n",
       "    <tr>\n",
       "      <th>2014-2015</th>\n",
       "      <td>238897</td>\n",
       "      <td>1483</td>\n",
       "    </tr>\n",
       "    <tr>\n",
       "      <th>2015-2016</th>\n",
       "      <td>575785</td>\n",
       "      <td>4434</td>\n",
       "    </tr>\n",
       "    <tr>\n",
       "      <th>2016-2017</th>\n",
       "      <td>631729</td>\n",
       "      <td>4550</td>\n",
       "    </tr>\n",
       "    <tr>\n",
       "      <th>2017-2018</th>\n",
       "      <td>672308</td>\n",
       "      <td>4299</td>\n",
       "    </tr>\n",
       "    <tr>\n",
       "      <th>2018-2019</th>\n",
       "      <td>718522</td>\n",
       "      <td>5454</td>\n",
       "    </tr>\n",
       "    <tr>\n",
       "      <th>2019-2020</th>\n",
       "      <td>764057</td>\n",
       "      <td>5375</td>\n",
       "    </tr>\n",
       "  </tbody>\n",
       "</table>\n",
       "</div>"
      ],
      "text/plain": [
       "Special Needs      No   Yes\n",
       "Academic Year              \n",
       "2014-2015      238897  1483\n",
       "2015-2016      575785  4434\n",
       "2016-2017      631729  4550\n",
       "2017-2018      672308  4299\n",
       "2018-2019      718522  5454\n",
       "2019-2020      764057  5375"
      ]
     },
     "execution_count": 23,
     "metadata": {},
     "output_type": "execute_result"
    }
   ],
   "source": [
    "df_Special_Needs = df.groupby(['Academic Year', 'Special Needs'])['Participants'].count().unstack()\n",
    "df_Special_Needs"
   ]
  },
  {
   "cell_type": "code",
   "execution_count": 24,
   "id": "715d69a2",
   "metadata": {},
   "outputs": [
    {
     "data": {
      "text/html": [
       "<div>\n",
       "<style scoped>\n",
       "    .dataframe tbody tr th:only-of-type {\n",
       "        vertical-align: middle;\n",
       "    }\n",
       "\n",
       "    .dataframe tbody tr th {\n",
       "        vertical-align: top;\n",
       "    }\n",
       "\n",
       "    .dataframe thead th {\n",
       "        text-align: right;\n",
       "    }\n",
       "</style>\n",
       "<table border=\"1\" class=\"dataframe\">\n",
       "  <thead>\n",
       "    <tr style=\"text-align: right;\">\n",
       "      <th>Special Needs</th>\n",
       "      <th>No</th>\n",
       "      <th>Yes</th>\n",
       "      <th>Percentual</th>\n",
       "    </tr>\n",
       "    <tr>\n",
       "      <th>Academic Year</th>\n",
       "      <th></th>\n",
       "      <th></th>\n",
       "      <th></th>\n",
       "    </tr>\n",
       "  </thead>\n",
       "  <tbody>\n",
       "    <tr>\n",
       "      <th>2014-2015</th>\n",
       "      <td>238897</td>\n",
       "      <td>1483</td>\n",
       "      <td>0.006169</td>\n",
       "    </tr>\n",
       "    <tr>\n",
       "      <th>2015-2016</th>\n",
       "      <td>575785</td>\n",
       "      <td>4434</td>\n",
       "      <td>0.007642</td>\n",
       "    </tr>\n",
       "    <tr>\n",
       "      <th>2016-2017</th>\n",
       "      <td>631729</td>\n",
       "      <td>4550</td>\n",
       "      <td>0.007151</td>\n",
       "    </tr>\n",
       "    <tr>\n",
       "      <th>2017-2018</th>\n",
       "      <td>672308</td>\n",
       "      <td>4299</td>\n",
       "      <td>0.006354</td>\n",
       "    </tr>\n",
       "    <tr>\n",
       "      <th>2018-2019</th>\n",
       "      <td>718522</td>\n",
       "      <td>5454</td>\n",
       "      <td>0.007533</td>\n",
       "    </tr>\n",
       "    <tr>\n",
       "      <th>2019-2020</th>\n",
       "      <td>764057</td>\n",
       "      <td>5375</td>\n",
       "      <td>0.006986</td>\n",
       "    </tr>\n",
       "  </tbody>\n",
       "</table>\n",
       "</div>"
      ],
      "text/plain": [
       "Special Needs      No   Yes  Percentual\n",
       "Academic Year                          \n",
       "2014-2015      238897  1483    0.006169\n",
       "2015-2016      575785  4434    0.007642\n",
       "2016-2017      631729  4550    0.007151\n",
       "2017-2018      672308  4299    0.006354\n",
       "2018-2019      718522  5454    0.007533\n",
       "2019-2020      764057  5375    0.006986"
      ]
     },
     "execution_count": 24,
     "metadata": {},
     "output_type": "execute_result"
    }
   ],
   "source": [
    "df_Special_Needs['Percentual'] = df_Special_Needs.Yes/(df_Special_Needs.No+df_Special_Needs.Yes)\n",
    "df_Special_Needs"
   ]
  },
  {
   "cell_type": "code",
   "execution_count": 25,
   "id": "93b6e4ea",
   "metadata": {},
   "outputs": [],
   "source": [
    "df_Special_Needs.to_csv('df_Special_Needs.csv')"
   ]
  },
  {
   "cell_type": "code",
   "execution_count": 26,
   "id": "6921f476",
   "metadata": {},
   "outputs": [
    {
     "data": {
      "text/plain": [
       "<AxesSubplot:xlabel='Academic Year'>"
      ]
     },
     "execution_count": 26,
     "metadata": {},
     "output_type": "execute_result"
    },
    {
     "data": {
      "image/png": "[encoded data removed]",
      "text/plain": [
       "<Figure size 576x432 with 1 Axes>"
      ]
     },
     "metadata": {
      "needs_background": "light"
     },
     "output_type": "display_data"
    }
   ],
   "source": [
    "df_Special_Needs.plot(kind='bar', figsize=(8,6))"
   ]
  },
  {
   "cell_type": "code",
   "execution_count": 27,
   "id": "38f67e95",
   "metadata": {},
   "outputs": [
    {
     "data": {
      "text/plain": [
       "<AxesSubplot:xlabel='Academic Year'>"
      ]
     },
     "execution_count": 27,
     "metadata": {},
     "output_type": "execute_result"
    },
    {
     "data": {
      "image/png": "[encoded data removed]",
      "text/plain": [
       "<Figure size 576x432 with 1 Axes>"
      ]
     },
     "metadata": {
      "needs_background": "light"
     },
     "output_type": "display_data"
    }
   ],
   "source": [
    "df_Special_Needs.plot(figsize=(8,6))"
   ]
  },
  {
   "cell_type": "code",
   "execution_count": 28,
   "id": "95f6820e",
   "metadata": {},
   "outputs": [
    {
     "data": {
      "text/plain": [
       "<AxesSubplot:xlabel='Academic Year'>"
      ]
     },
     "execution_count": 28,
     "metadata": {},
     "output_type": "execute_result"
    },
    {
     "data": {
      "image/png": "[encoded data removed]",
      "text/plain": [
       "<Figure size 432x288 with 1 Axes>"
      ]
     },
     "metadata": {
      "needs_background": "light"
     },
     "output_type": "display_data"
    }
   ],
   "source": [
    "df_Special_Needs.Yes.plot()"
   ]
  },
  {
   "cell_type": "code",
   "execution_count": 29,
   "id": "d772db8d",
   "metadata": {},
   "outputs": [
    {
     "data": {
      "text/plain": [
       "Receiving Country Code\n",
       "ES    459687\n",
       "DE    338113\n",
       "UK    328127\n",
       "IT    302015\n",
       "FR    256320\n",
       "PL    189910\n",
       "PT    152913\n",
       "NL    115081\n",
       "CZ    106454\n",
       "BE     99348\n",
       "IE     97330\n",
       "FI     89904\n",
       "TR     88110\n",
       "SE     84827\n",
       "AT     84626\n",
       "Name: Participants, dtype: int64"
      ]
     },
     "execution_count": 29,
     "metadata": {},
     "output_type": "execute_result"
    }
   ],
   "source": [
    "df_name_country = df.groupby(['Receiving Country Code']).Participants.count().sort_values(ascending=False).head(15)\n",
    "df_name_country"
   ]
  },
  {
   "cell_type": "code",
   "execution_count": 30,
   "id": "12061f4d",
   "metadata": {},
   "outputs": [
    {
     "data": {
      "text/plain": [
       "Sending Country Code\n",
       "DE    418432\n",
       "FR    394268\n",
       "ES    357703\n",
       "IT    330148\n",
       "PL    206791\n",
       "TR    183877\n",
       "UK    171427\n",
       "NL    129021\n",
       "RO    121217\n",
       "CZ    101506\n",
       "PT    100121\n",
       "BE     88250\n",
       "HU     80817\n",
       "EL     77589\n",
       "AT     76471\n",
       "Name: Participants, dtype: int64"
      ]
     },
     "execution_count": 30,
     "metadata": {},
     "output_type": "execute_result"
    }
   ],
   "source": [
    "df.groupby(['Sending Country Code']).Participants.count().sort_values(ascending=False).head(15)"
   ]
  },
  {
   "cell_type": "code",
   "execution_count": 41,
   "id": "3153d9c6",
   "metadata": {},
   "outputs": [],
   "source": [
    "df_receiving = df.groupby(['Academic Year', 'Receiving Country Code', 'Receiving City']).Participants.sum().sort_values(ascending=False)"
   ]
  },
  {
   "cell_type": "code",
   "execution_count": 42,
   "id": "3a9750d7",
   "metadata": {},
   "outputs": [],
   "source": [
    "df_receiving.to_csv('df_receiving.csv')"
   ]
  },
  {
   "cell_type": "code",
   "execution_count": 37,
   "id": "b1449362",
   "metadata": {},
   "outputs": [
    {
     "data": {
      "text/plain": [
       "Academic Year  Sending Country Code  Sending City\n",
       "2019-2020      HU                    Budapest        7704\n",
       "2018-2019      DE                    Berlin          7517\n",
       "2017-2018      HU                    Budapest        7458\n",
       "2018-2019      HU                    Budapest        7360\n",
       "2016-2017      HU                    Budapest        6751\n",
       "2019-2020      DE                    Berlin          6738\n",
       "2017-2018      DE                    Berlin          6558\n",
       "2015-2016      HU                    Budapest        6216\n",
       "2016-2017      DE                    Berlin          5559\n",
       "2015-2016      DE                    Berlin          5556\n",
       "2019-2020      IT                    MILANO          4784\n",
       "2018-2019      FR                    Paris           4708\n",
       "2019-2020      FR                    Paris           4707\n",
       "2018-2019      ES                    MADRID          4685\n",
       "2017-2018      ES                    MADRID          4546\n",
       "Name: Participants, dtype: int64"
      ]
     },
     "execution_count": 37,
     "metadata": {},
     "output_type": "execute_result"
    }
   ],
   "source": [
    "df.groupby(['Academic Year','Sending Country Code', 'Sending City']).Participants.sum().sort_values(ascending=False).head(15)"
   ]
  },
  {
   "cell_type": "code",
   "execution_count": null,
   "id": "d2581901",
   "metadata": {},
   "outputs": [],
   "source": []
  }
 ],
 "metadata": {
  "kernelspec": {
   "display_name": "Python 3",
   "language": "python",
   "name": "python3"
  },
  "language_info": {
   "codemirror_mode": {
    "name": "ipython",
    "version": 3
   },
   "file_extension": ".py",
   "mimetype": "text/x-python",
   "name": "python",
   "nbconvert_exporter": "python",
   "pygments_lexer": "ipython3",
   "version": "3.8.8"
  }
 },
 "nbformat": 4,
 "nbformat_minor": 5
}
